{
 "cells": [
  {
   "cell_type": "markdown",
   "metadata": {},
   "source": [
    "# Lab 1b: Linear classification\n",
    "\n",
    "The [Fashion-MNIST dataset](https://www.openml.org/d/40996) contains 70,000 images of Zalando fashion products, classified into 10 types of clothing, each represented by 28 by 28 pixel values. We's see how well we can classify these with linear models. Let's start with looking at our data:"
   ]
  },
  {
   "cell_type": "code",
   "execution_count": null,
   "metadata": {},
   "outputs": [],
   "source": [
    "# Auto-setup when running on Google Colab\n",
    "if 'google.colab' in str(get_ipython()):\n",
    "    !pip install openml\n",
    "\n",
    "# General imports\n",
    "%matplotlib inline\n",
    "import numpy as np\n",
    "import pandas as pd\n",
    "import matplotlib.pyplot as plt\n",
    "import openml as oml\n",
    "from matplotlib import cm\n",
    "\n",
    "# Hide convergence warning for now\n",
    "import warnings\n",
    "from sklearn.exceptions import ConvergenceWarning\n",
    "warnings.simplefilter(action=\"ignore\", category=ConvergenceWarning)"
   ]
  },
  {
   "cell_type": "code",
   "execution_count": null,
   "metadata": {},
   "outputs": [],
   "source": [
    "# Download FMINST data. Takes a while the first time.\n",
    "fmnist = oml.datasets.get_dataset(40996)\n",
    "X, y, _, _ = fmnist.get_data(target=fmnist.default_target_attribute); \n",
    "fmnist_classes = {0:\"T-shirt/top\", 1: \"Trouser\", 2: \"Pullover\", 3: \"Dress\", 4: \"Coat\", 5: \"Sandal\", \n",
    "                  6: \"Shirt\", 7: \"Sneaker\", 8: \"Bag\", 9: \"Ankle boot\"}"
   ]
  },
  {
   "cell_type": "code",
   "execution_count": 9,
   "metadata": {},
   "outputs": [
    {
     "data": {
      "text/plain": [
       "70000"
      ]
     },
     "execution_count": 9,
     "metadata": {},
     "output_type": "execute_result"
    }
   ],
   "source": [
    "len(X)"
   ]
  },
  {
   "cell_type": "code",
   "execution_count": 8,
   "metadata": {},
   "outputs": [
    {
     "data": {
      "image/png": "[encoded data removed]",
      "text/plain": [
       "<Figure size 1000x500 with 5 Axes>"
      ]
     },
     "metadata": {},
     "output_type": "display_data"
    }
   ],
   "source": [
    "# Take some random examples, reshape to a 32x32 image and plot\n",
    "from random import randint\n",
    "fig, axes = plt.subplots(1, 5,  figsize=(10, 5))\n",
    "for i in range(5):\n",
    "    n = randint(0,70000)\n",
    "    axes[i].imshow(X.values[n].reshape(28, 28), cmap=plt.cm.gray_r)\n",
    "    axes[i].set_xlabel((fmnist_classes[int(y.values[n])]))\n",
    "    axes[i].set_xticks(()), axes[i].set_yticks(())\n",
    "plt.show();"
   ]
  },
  {
   "cell_type": "code",
   "execution_count": null,
   "metadata": {},
   "outputs": [],
   "source": [
    "len(Xs)"
   ]
  },
  {
   "cell_type": "markdown",
   "metadata": {},
   "source": [
    "## Exercise 1: A quick benchmark\n",
    "First, we'll try the default [Logistic Regression](https://scikit-learn.org/stable/modules/generated/sklearn.linear_model.LogisticRegression.html) and [Linear SVMs](https://scikit-learn.org/stable/modules/generated/sklearn.svm.LinearSVC.html?highlight=linearsvc#sklearn.svm.LinearSVC). Click the links to read the documentation. We'll also compare it to [k-Nearest Neighbors](https://scikit-learn.org/stable/modules/generated/sklearn.neighbors.KNeighborsClassifier.html) as a point of reference. To see whether our models are overfitting, we also evaluate the training set error. This can be done using [`cross_validate`](https://scikit-learn.org/stable/modules/generated/sklearn.model_selection.cross_validate.html) instead of  [`cross_val_scores`](https://scikit-learn.org/stable/modules/generated/sklearn.model_selection.cross_val_score.html#sklearn.model_selection.cross_val_score).\n",
    "\n",
    "For now we are just interested in a quick approximation, so we don't use the full dataset for our experiments. Instead, we use 10% of our samples:"
   ]
  },
  {
   "cell_type": "code",
   "execution_count": 13,
   "metadata": {},
   "outputs": [],
   "source": [
    "from sklearn.model_selection import train_test_split, cross_validate\n",
    "from sklearn.linear_model import LogisticRegression\n",
    "from sklearn.svm import LinearSVC\n",
    "from sklearn.neighbors import KNeighborsClassifier\n",
    "\n",
    "# Take a 10% stratified subsample to speed up experimentation\n",
    "Xs, _, ys, _ = train_test_split(X,y, stratify=y, train_size=0.1)"
   ]
  },
  {
   "cell_type": "code",
   "execution_count": 14,
   "metadata": {},
   "outputs": [
    {
     "data": {
      "text/plain": [
       "7000"
      ]
     },
     "execution_count": 14,
     "metadata": {},
     "output_type": "execute_result"
    }
   ],
   "source": [
    "len(Xs)"
   ]
  },
  {
   "cell_type": "markdown",
   "metadata": {},
   "source": [
    "With this small sample of our data we can now train and evaluate the three classifiers."
   ]
  },
  {
   "cell_type": "markdown",
   "metadata": {},
   "source": [
    "### Exercise 1.1\n",
    "Implement a function below which evaluates each classifier passed into it on the given data, and then returns both the train and test scores of each as a list. You are allowed to import additional functions from whichever module you like, but you should be able to complete the function with [`cross_validate`](https://scikit-learn.org/stable/modules/generated/sklearn.model_selection.cross_validate.html) function and standard Python built-ins. Below the function you will find example output."
   ]
  },
  {
   "cell_type": "code",
   "execution_count": 28,
   "metadata": {},
   "outputs": [],
   "source": [
    "def evaluate_learners(classifiers, X, y,cv=5):\n",
    "    \"\"\" Evaluate each classifier in 'classifiers' with cross-validation on the provided (X, y) data. \n",
    "    \n",
    "    Given a list of scikit-learn classifiers [Classifier1, Classifier2, ..., ClassifierN] return two lists:\n",
    "     - a list with the scores obtained on the training samples for each classifier,\n",
    "     - a list with the test scores obtained on the test samples for each classifier.\n",
    "     The order of scores should match the order in which the classifiers were originally provided. E.g.:     \n",
    "     [Classifier1 train score, ..., ClassifierN train score], [Classifier1 test score, ..., ClassifierN test score]\n",
    "    \"\"\"\n",
    "    xvals=[cross_validate(m,X,y,return_train_score=True,cv=cv, n_jobs=-1) for name,m in classifiers]\n",
    "    test_scores =[x['test_score'] for x in xvals]\n",
    "    train_scores =[x['train_score'] for x in xvals]\n",
    "    return train_scores,test_scores\n",
    "\n",
    "# # Example output:\n",
    "# train_scores, test_scores = ([[0.92 , 0.924, 0.916, 0.917, 0.921],  # Classifier 1 train score for each of 5 folds.\n",
    "#                               [0.963, 0.962, 0.953, 0.912, 0.934],  # Classifier 2 train score for each of 5 folds.\n",
    "#                               [0.867, 0.868, 0.865, 0.866, 0.866]], # Classifier 3 train score for each of 5 folds.\n",
    "#                              [[0.801, 0.811, 0.806, 0.826, 0.804],  # Classifier 1 test score for each of 5 folds.\n",
    "#                               [0.766, 0.756, 0.773, 0.756, 0.741],  # Classifier 2 test score for each of 5 folds.\n",
    "#                               [0.804, 0.814, 0.806, 0.821, 0.806]]) # Classifier 3 test score for each of 5 folds."
   ]
  },
  {
   "cell_type": "code",
   "execution_count": 29,
   "metadata": {},
   "outputs": [],
   "source": [
    "def evaluate_classifiers(classifiers, X, y, cv=5):\n",
    "    \"\"\"\n",
    "    Evaluates multiple classifiers using cross-validation\n",
    "    \n",
    "    Parameters:\n",
    "    -----------\n",
    "    classifiers : list\n",
    "        List of (name, classifier) tuples\n",
    "    X : array-like\n",
    "        Feature matrix\n",
    "    y : array-like\n",
    "        Target vector\n",
    "    cv : int\n",
    "        Number of cross-validation folds (default=5)\n",
    "    \n",
    "    Returns:\n",
    "    --------\n",
    "    train_scores : array, shape (n_classifiers, n_cv_folds)\n",
    "        Training scores for each classifier and CV fold\n",
    "    test_scores : array, shape (n_classifiers, n_cv_folds)\n",
    "        Test scores for each classifier and CV fold\n",
    "    \"\"\"\n",
    "    train_scores = []\n",
    "    test_scores = []\n",
    "    \n",
    "    for name, clf in classifiers:  # Unpack the tuple\n",
    "        # Perform cross-validation with just the classifier object\n",
    "        scores = cross_validate(clf, X, y, cv=cv, \n",
    "                              return_train_score=True,n_jobs=-1)\n",
    "        \n",
    "        # Store all scores from each fold\n",
    "        train_scores.append(scores['train_score'])\n",
    "        test_scores.append(scores['test_score'])\n",
    "    \n",
    "    return np.array(train_scores), np.array(test_scores)\n"
   ]
  },
  {
   "cell_type": "raw",
   "metadata": {},
   "source": []
  },
  {
   "cell_type": "code",
   "execution_count": null,
   "metadata": {},
   "outputs": [],
   "source": [
    "# Create the classifiers list with proper tuples\n",
    "from sklearn.linear_model import LogisticRegression\n",
    "from sklearn.neighbors import KNeighborsClassifier\n",
    "\n",
    "classifiers = [\n",
    "    (\"Logistic Regression\", LogisticRegression()),\n",
    "    (\"K nearest Neighbors Classifier\", KNeighborsClassifier())\n",
    "]\n",
    "\n",
    "# Get the scores\n",
    "train_scores, test_scores = evaluate_learners(classifiers, X, y, cv=5)\n",
    "\n",
    "# Plot\n",
    "fig, ax = plt.subplots()\n",
    "width = 0.3\n",
    "\n",
    "ax.barh(np.arange(len(train_scores)), np.mean(test_scores, axis=1), width,\n",
    "        yerr=np.std(test_scores, axis=1), color='green', label='test')\n",
    "ax.barh(np.arange(len(train_scores))-width, np.mean(train_scores, axis=1), width,\n",
    "        yerr=np.std(train_scores, axis=1), color='red', label='train')\n",
    "\n",
    "for i, te, tr in zip(np.arange(len(train_scores)), test_scores, train_scores):\n",
    "    ax.text(0, i, f\"{np.mean(te):.4f} +- {np.std(te):.4f}\", color='white', va='center')\n",
    "    ax.text(0, i-width, f\"{np.mean(tr):.4f} +- {np.std(tr):.4f}\", color='white', va='center')\n",
    "\n",
    "# Modified this line to use the name from the tuple\n",
    "ax.set(yticks=np.arange(len(train_scores))-width/2, \n",
    "       yticklabels=[name for name, _ in classifiers])\n",
    "ax.set_xlabel('Accuracy')\n",
    "ax.legend(bbox_to_anchor=(1.05, 1), loc=2)\n",
    "plt.show()\n"
   ]
  },
  {
   "cell_type": "markdown",
   "metadata": {},
   "source": [
    "### Exercise 1.2\n",
    "Call the function you created with a Logistic Regression, Linear SVM, and k-Nearest Neighbors Classifier.\n",
    "Store the return values in the variables `train_scores` and `test_scores`. Then, run the code given below to produce a plot visualizing the scores."
   ]
  },
  {
   "cell_type": "code",
   "execution_count": null,
   "metadata": {},
   "outputs": [],
   "source": [
    "# Dummy code. Replace with the actual classifiers and scores\n",
    "classifiers = [LogisticRegression()]\n",
    "train_scores, test_scores = [[0.6,0.7,0.8]], [[0.5,0.6,0.7]]"
   ]
  },
  {
   "cell_type": "code",
   "execution_count": null,
   "metadata": {},
   "outputs": [],
   "source": [
    "# Create the list of classifiers with their names\n",
    "classifiers = [\n",
    "    (\"Logistic Regression\", LogisticRegression(max_iter=1000)),\n",
    "    (\"Linear SVM\", LinearSVC(max_iter=1000)),\n",
    "    (\"k-Nearest Neighbors\", KNeighborsClassifier())\n",
    "]\n",
    "\n",
    "# Call the evaluation function we created earlier\n",
    "train_scores, test_scores = evaluate_classifiers(classifiers, X, y, cv=5)"
   ]
  },
  {
   "cell_type": "code",
   "execution_count": null,
   "metadata": {},
   "outputs": [],
   "source": [
    "train_scores, test_scores\n",
    "#75 minutes\n",
    "#19 mn ( -1 ) "
   ]
  },
  {
   "cell_type": "code",
   "execution_count": null,
   "metadata": {},
   "outputs": [],
   "source": [
    "# Plot\n",
    "fig, ax = plt.subplots()\n",
    "width = 0.3\n",
    "\n",
    "ax.barh(np.arange(len(train_scores)), np.mean(test_scores, axis=1), width,\n",
    "        yerr=np.std(test_scores, axis=1), color='green', label='test')\n",
    "ax.barh(np.arange(len(train_scores))-width, np.mean(train_scores, axis=1), width,\n",
    "        yerr=np.std(train_scores, axis=1), color='red', label='train')\n",
    "\n",
    "for i, te, tr in zip(np.arange(len(train_scores)), test_scores, train_scores):\n",
    "    ax.text(0, i, f\"{np.mean(te):.4f} +- {np.std(te):.4f}\", color='white', va='center')\n",
    "    ax.text(0, i-width, f\"{np.mean(tr):.4f} +- {np.std(tr):.4f}\", color='white', va='center')\n",
    "\n",
    "# Modified this line to use the name from the tuple\n",
    "ax.set(yticks=np.arange(len(train_scores))-width/2, \n",
    "       yticklabels=[name for name, _ in classifiers])\n",
    "ax.set_xlabel('Accuracy')\n",
    "ax.legend(bbox_to_anchor=(1.05, 1), loc=2)\n",
    "plt.show()"
   ]
  },
  {
   "cell_type": "code",
   "execution_count": null,
   "metadata": {
    "scrolled": true
   },
   "outputs": [],
   "source": [
    "# Plot a bar chart of the train and test scores of all the classifiers, including the variance as error bars\n",
    "fig, ax = plt.subplots()\n",
    "width=0.3\n",
    "ax.barh(np.arange(len(train_scores)), np.mean(test_scores, axis=1), width,\n",
    "        yerr= np.std(test_scores, axis=1), color='green', label='test')\n",
    "ax.barh(np.arange(len(train_scores))-width, np.mean(train_scores, axis=1), width,\n",
    "        yerr= np.std(train_scores, axis=1), color='red', label='train')\n",
    "for i, te, tr in zip(np.arange(len(train_scores)),test_scores,train_scores):\n",
    "    ax.text(0, i, \"{:.4f} +- {:.4f}\".format(np.mean(te),np.std(te)), color='white', va='center')\n",
    "    ax.text(0, i-width, \"{:.4f} +- {:.4f}\".format(np.mean(tr),np.std(tr)), color='white', va='center')\n",
    "ax.set(yticks=np.arange(len(train_scores))-width/2, yticklabels=[name for name, _  in classifiers])\n",
    "ax.set_xlabel('Accuracy')\n",
    "ax.legend(bbox_to_anchor=(1.05, 1), loc=2)\n",
    "\n",
    "plt.show()"
   ]
  },
  {
   "cell_type": "markdown",
   "metadata": {},
   "source": [
    "### Exercise 1.3\n",
    "Interpret the plot. Which is the best classifier? Are any of the models overfitting? If so, what can we do to solve this? Is there a lot of variance in the results?"
   ]
  },
  {
   "cell_type": "markdown",
   "metadata": {},
   "source": [
    "## Exercise 2: Regularization\n",
    "We will now tune these algorithm's main regularization hyperparameter: the misclassification cost in SVMs (C), the regularization parameter in logistic regression (C), and the number of neighbors (n_neighbors) in kNN. We expect the optimum for the C parameters to lie in $[10^{-12},10^{12}]$ and for n_neighbors between 1 and 50. C should be varied on a log scale (i.e. [0.01, 0.1, 1, 10, 100]) and k should be varied uniformly (i.e. [1,2,3,4])."
   ]
  },
  {
   "cell_type": "markdown",
   "metadata": {},
   "source": [
    "### Exercise 2.1\n",
    "Vary the regularization parameters in the range given above and, for each classifier, create a line plot that plots both the training and test score for every value of the regularization hyperparameter. Hence, you should produce 3 plots, one for each classifier. Use the default 5-fold cross validation for all scores, but only plot the means.\n",
    "\n",
    "Hints:\n",
    "* Think about the time complexity of these models. Trying too many hyperparameter values may take too much time.\n",
    "* You can make use of numpy's [logspace](https://docs.scipy.org/doc/numpy/reference/generated/numpy.logspace.html), [geomspace](https://docs.scipy.org/doc/numpy/reference/generated/numpy.geomspace.html?highlight=geomspace#numpy.geomspace), and [linspace](https://docs.scipy.org/doc/numpy/reference/generated/numpy.linspace.html#numpy.linspace) functions.\n",
    "* You can use matplotlib's default [plot](https://matplotlib.org/tutorials/introductory/pyplot.html) function to plot the train and test scores.\n",
    "* You can manually loop over the hyperparameter ranges, or you can already check out scikit-learn's [GridSearchCV](https://scikit-learn.org/stable/modules/generated/sklearn.model_selection.GridSearchCV.html) function to save some programming. We'll see it again later in the course.\n"
   ]
  },
  {
   "cell_type": "markdown",
   "metadata": {},
   "source": [
    "#### Solution"
   ]
  },
  {
   "cell_type": "code",
   "execution_count": null,
   "metadata": {},
   "outputs": [],
   "source": [
    "# Generic plot for 1D grid search\n",
    "# grid_search: the result of the GridSearchCV\n",
    "# param_name: the name of the parameter that is being varied\n",
    "def plot_tuning(grid_search, param_name, ax):\n",
    "    ax.plot(grid_search.param_grid[param_name], grid_search.cv_results_['mean_test_score'], marker = '.', label = 'Test score')\n",
    "    ax.plot(grid_search.param_grid[param_name], grid_search.cv_results_['mean_train_score'], marker = '.', label = 'Train score')\n",
    "    ax.set_ylabel('score (ACC)')\n",
    "    ax.set_xlabel(param_name)\n",
    "    ax.legend()\n",
    "    ax.set_xscale('log')\n",
    "    ax.set_title(grid_search.best_estimator_.__class__.__name__)\n",
    "    bp, bs = grid_search.best_params_[param_name], grid_search.best_score_\n",
    "    ax.text(bp,bs,\"  C:{:.2E}, ACC:{:.4f}\".format(bp,bs))"
   ]
  },
  {
   "cell_type": "markdown",
   "metadata": {},
   "source": [
    "### Exercise 2.2\n",
    "Interpret the plots. When are the methods underfitting? When are they overfitting? How sensitive are they to the regularization hyperparameter?"
   ]
  },
  {
   "cell_type": "markdown",
   "metadata": {},
   "source": [
    "## Exercise 3: Interpreting misclassifications\n",
    "Chances are that your models are not yet perfect. It is important to understand what kind of errors it still makes. Let's take a closer look at which instances are misclassified and which classes are often confused.\n",
    "Train the logistic regression model with `C=1e-7`. Train the model on a training set, and make predictions for a test set (both sets should be  sampled from our 10% subsample)."
   ]
  },
  {
   "cell_type": "code",
   "execution_count": null,
   "metadata": {},
   "outputs": [],
   "source": [
    "# Create a stratified train-test split on a sample\n",
    "X_train, X_test, y_train, y_test = train_test_split(Xs,ys, stratify=ys, random_state=0)"
   ]
  },
  {
   "cell_type": "markdown",
   "metadata": {},
   "source": [
    "### Exercise 3.1\n",
    "Train the classifier as described above, obtain the predictions `y_pred` on the test set, and identify all the misclassified samples `misclassified_samples`. Then, run the visualization code below to study the misclassifications"
   ]
  },
  {
   "cell_type": "code",
   "execution_count": null,
   "metadata": {},
   "outputs": [],
   "source": [
    "# Implement the code to obtain the actual predictions on the test set\n",
    "y_pred = list(y_test) # dummy values, replace y_test with the actual predictions\n",
    "\n",
    "# Implement the code to obtain the indices of the misclassified samples\n",
    "# Example output:\n",
    "# misclassified_samples = [  11,   12,   14,   23,   30,   34,   39,   46,   50,   52,   55]\n",
    "misclassified_samples = [0,1,2,3,4] # dummy values"
   ]
  },
  {
   "cell_type": "code",
   "execution_count": null,
   "metadata": {},
   "outputs": [],
   "source": [
    "# Visualize the (first five) misclassifications, together with the predicted and actual class\n",
    "fig, axes = plt.subplots(1, 5,  figsize=(10, 5))\n",
    "for nr, i in enumerate(misclassified_samples[:5]):\n",
    "    axes[nr].imshow(X_test.values[i].reshape(28, 28), cmap=plt.cm.gray_r)\n",
    "    axes[nr].set_xlabel(\"Predicted: %s,\\n Actual : %s\" % (fmnist_classes[int(y_pred[i])],fmnist_classes[int(y_test.values[i])]))\n",
    "    axes[nr].set_xticks(()), axes[nr].set_yticks(())\n",
    "\n",
    "plt.show();"
   ]
  },
  {
   "cell_type": "markdown",
   "metadata": {},
   "source": [
    "### Exercise 3.2\n",
    "Interpret the results. Are these misclassifications to be expected? "
   ]
  },
  {
   "cell_type": "markdown",
   "metadata": {},
   "source": [
    "### Exercise 3.3.\n",
    "Run the code below on your results to draw the complete confusion matrix and get more insight on the systematic misclassifications \n",
    "of your model. A confusion matrix shows the amount of examples in for each pair of true and predicted classes. Interpret the results. \n",
    "Does your model produce certain types of error more often than other types? "
   ]
  },
  {
   "cell_type": "code",
   "execution_count": null,
   "metadata": {},
   "outputs": [],
   "source": [
    "from sklearn.metrics import confusion_matrix\n",
    "cm = confusion_matrix(y_test,y_pred)\n",
    "fig, ax = plt.subplots()\n",
    "im = ax.imshow(cm)\n",
    "ax.set_xticks(np.arange(10)), ax.set_yticks(np.arange(10))\n",
    "ax.set_xticklabels(list(fmnist_classes.values()), rotation=45, ha=\"right\")\n",
    "ax.set_yticklabels(list(fmnist_classes.values()))\n",
    "ax.set_ylabel('True')\n",
    "ax.set_xlabel('Predicted')\n",
    "for i in range(100):\n",
    "    ax.text(int(i/10),i%10,cm[i%10,int(i/10)], ha=\"center\", va=\"center\", color=\"w\")"
   ]
  },
  {
   "cell_type": "markdown",
   "metadata": {},
   "source": [
    "## Exercise 4: Interpreting model parameters\n",
    "Finally, we'll take a closer look at the model parameters, i.e. the coefficients of our linear models. Since we are dealing with 28x28 pixel images, we have to learn 784 coefficients. What do these coefficients mean? We'll start by plotting them as 28x28 pixel images."
   ]
  },
  {
   "cell_type": "markdown",
   "metadata": {},
   "source": [
    "### Exercise 4.1\n",
    "Train a Logistic Regression model and a Linear SVM using their tuned hyperparameters from exercise 2. \n",
    "When in doubt, use `C=1e-7` for LogReg and `C=1e-8` for the SVM. \n",
    "Pass the trained model to the provided plotting function. Interpret the results in detail. \n",
    "Why do you get multiple plots per model? What do the features represent in your data. \n",
    "Does it seems like the models pay attention to the right features?\n",
    "Do you models seem to ignore certain features? Do you observe differences in quality between the different classes? Do you observe any differences between the models?"
   ]
  },
  {
   "cell_type": "code",
   "execution_count": null,
   "metadata": {},
   "outputs": [],
   "source": [
    "# Plots the coefficients of the given model as 28x28 heatmaps. \n",
    "# The `name` attribute is optional, it is simply a title for the produced figure\n",
    "def plot_coefficients(model, name=None):\n",
    "    fig, axes = plt.subplots(1,10,figsize=(20,2))\n",
    "    fig.suptitle(name if name else model.__class__.__name__)\n",
    "    for i, ax in enumerate(axes):\n",
    "        m = ax.imshow(model.coef_[i].reshape(28,28))\n",
    "        ax.set_xlabel(fmnist_classes[i])\n",
    "        ax.set_xticks(()), ax.set_yticks(())\n",
    "    fig.colorbar(m, ax=axes.ravel().tolist())"
   ]
  },
  {
   "cell_type": "markdown",
   "metadata": {},
   "source": [
    "### Exercise 4.2\n",
    "Repeat the previous exercise, but now only with logistic regression. In addition to a tuned version, also add a model that overfits a lot and one that underfits a lot. Interpret and explain the results."
   ]
  }
 ],
 "metadata": {
  "anaconda-cloud": {},
  "kernelspec": {
   "display_name": "Python 3 (ipykernel)",
   "language": "python",
   "name": "python3"
  },
  "language_info": {
   "codemirror_mode": {
    "name": "ipython",
    "version": 3
   },
   "file_extension": ".py",
   "mimetype": "text/x-python",
   "name": "python",
   "nbconvert_exporter": "python",
   "pygments_lexer": "ipython3",
   "version": "3.10.16"
  }
 },
 "nbformat": 4,
 "nbformat_minor": 4
}
