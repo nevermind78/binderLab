{
 "cells": [
  {
   "cell_type": "markdown",
   "metadata": {},
   "source": [
    "# Lab 1: Linear models"
   ]
  },
  {
   "cell_type": "code",
   "execution_count": null,
   "metadata": {},
   "outputs": [],
   "source": [
    "str(get_ipython())"
   ]
  },
  {
   "cell_type": "markdown",
   "metadata": {
    "slideshow": {
     "slide_type": "slide"
    }
   },
   "source": [
    "## Part 1: Regression"
   ]
  },
  {
   "cell_type": "markdown",
   "metadata": {},
   "source": [
    "The [NO2 dataset](https://www.openml.org/d/547) contains 500 measurement of pollution caused by cars. The goal is to predict the concentration of $NO_2$ from data about traffic and atmospheric conditions. The predictive variables include the number of cars per hour, temperature, wind, and time of day."
   ]
  },
  {
   "cell_type": "code",
   "execution_count": null,
   "metadata": {},
   "outputs": [],
   "source": [
    "# General imports\n",
    "%matplotlib inline\n",
    "# inline par tk = tkinter\n",
    "import numpy as np\n",
    "import pandas as pd\n",
    "import matplotlib.pyplot as plt\n",
    "import openml as oml\n",
    "import sys\n",
    "import os\n",
    "\n",
    "# Hide convergence warning for now\n",
    "import warnings\n",
    "from sklearn.exceptions import ConvergenceWarning\n",
    "warnings.filterwarnings(\"ignore\", category=ConvergenceWarning)\n",
    "\n",
    "# Hiding all warnings. Not recommended, just for compilation.\n",
    "if not sys.warnoptions:\n",
    "    warnings.simplefilter(\"ignore\")\n",
    "    os.environ[\"PYTHONWARNINGS\"] = \"ignore\""
   ]
  },
  {
   "cell_type": "code",
   "execution_count": null,
   "metadata": {},
   "outputs": [],
   "source": [
    "plt.plot([2,4,5],'r')"
   ]
  },
  {
   "cell_type": "code",
   "execution_count": null,
   "metadata": {},
   "outputs": [],
   "source": [
    "# Download NO2 data. Takes a while the first time.\n",
    "no2 = oml.datasets.get_dataset(547)\n",
    "X, y, _, _ = no2.get_data(target=no2.default_target_attribute); \n",
    "attribute_names = list(X)"
   ]
  },
  {
   "cell_type": "markdown",
   "metadata": {},
   "source": [
    "## Quick visualization\n",
    "We can use pandas to quickly visualize the data. If you are new to pandas, take some time to understand the code.\n",
    "\n",
    "We'll remove the 'day' feature to focus on the non-temporal aspects of this interaction. We are not aiming to predict future levels, and even if we would it would require special treatment (e.g. different train-test splits). There also doesn't seem to be a long term trend in the data, even though there are clear periodic trends in temperature."
   ]
  },
  {
   "cell_type": "code",
   "execution_count": null,
   "metadata": {},
   "outputs": [],
   "source": [
    "df = pd.DataFrame(X, columns=attribute_names).join(pd.DataFrame(list(y),columns=['target']))\n",
    "df = df.sort_values(['day','hour_of_day']).drop('day',axis=1)\n",
    "df.plot(use_index=False,figsize=(20,5),cmap='brg');\n",
    "X = X.drop('day',axis=1)"
   ]
  },
  {
   "cell_type": "code",
   "execution_count": null,
   "metadata": {},
   "outputs": [],
   "source": [
    "df.head()"
   ]
  },
  {
   "cell_type": "markdown",
   "metadata": {},
   "source": [
    "If we plot the data, ordered by time of measurement, we can see that the wind direction (measured in angular degrees) is scaled very differently from the other features. Let's now zoom in to the other measures:"
   ]
  },
  {
   "cell_type": "code",
   "execution_count": null,
   "metadata": {},
   "outputs": [],
   "source": [
    "df.drop('wind_direction',axis=1).plot(use_index=False,figsize=(20,5),cmap='brg');"
   ]
  },
  {
   "cell_type": "markdown",
   "metadata": {},
   "source": [
    "We can see that the target ($NO_2$ levels) seem to be correlated to the number of cars per hour, which makes sense because cars produce $NO_2$. Other influences (air temperature differences and wind) seem to have a more complex and subtle effect. Let's try to model these using linear regression models."
   ]
  },
  {
   "cell_type": "markdown",
   "metadata": {},
   "source": [
    "## Exercise 1: Model benchmark\n",
    "It is clear that $NO_2$ concentrations depend on a combination of these features, so we will now try to learn this complex relationship. We first evaluate a range of linear regression problems, i.e. Linear Regression, Ridge, Lasso and ElasticNet, as well as kNN. Since we observed that somf features have very different scales, we'll also build pipelines of all these measures with an additional scaling step. For now, we'll stick to the default hyperparameter settings. "
   ]
  },
  {
   "cell_type": "markdown",
   "metadata": {},
   "source": [
    "### Exercise 1.1\n",
    "Implement a function below which evaluates each classifier passed into it on the given data, and then returns both the train and test scores of each as a list. You are allowed to import additional functions from whichever module you like, but you should be able to complete the function with [`cross_validate`](https://scikit-learn.org/stable/modules/generated/sklearn.model_selection.cross_validate.html) function and standard Python built-ins. Below you the function you will find example output."
   ]
  },
  {
   "cell_type": "code",
   "execution_count": null,
   "metadata": {},
   "outputs": [],
   "source": [
    "def evaluate_learners(models, X, y):\n",
    "    \"\"\"     \n",
    "    Given a list of models [model1, model2, ..., modelN] return two lists:\n",
    "     - a list with the scores obtained on the training samples for each model,\n",
    "     - a list with the test scores obtained on the test samples for each model.\n",
    "     The order of scores should match the order in which the models were originally provided. E.g.:     \n",
    "     [Model1 train score, ..., ModelN train score], [Model1 test score, ..., ModelN test score]\n",
    "    \"\"\"\n",
    "    pass\n",
    "\n",
    "# # Example output:\n",
    "# train_scores, test_scores = ([[0.92 , 0.924, 0.916, 0.917, 0.921],  # Model 1 train score for each of 5 folds.\n",
    "#                               [0.963, 0.962, 0.953, 0.912, 0.934],  # Model 2 train score for each of 5 folds.\n",
    "#                               ..\n",
    "#                              [[0.801, 0.811, 0.806, 0.826, 0.804],  # Model 1 test score for each of 5 folds.\n",
    "#                               [0.766, 0.756, 0.773, 0.756, 0.741],  # Model 2 test score for each of 5 folds.\n",
    "#                               .."
   ]
  },
  {
   "cell_type": "markdown",
   "metadata": {},
   "source": [
    "#### Solution"
   ]
  },
  {
   "cell_type": "code",
   "execution_count": null,
   "metadata": {},
   "outputs": [],
   "source": [
    "# MODEL IMPLEMENTATION:\n",
    "from sklearn.model_selection import cross_validate, train_test_split\n",
    "from sklearn.linear_model import LinearRegression, Ridge, Lasso, ElasticNet\n",
    "from sklearn.neighbors import KNeighborsRegressor\n",
    "from sklearn.pipeline import make_pipeline\n",
    "from sklearn.preprocessing import StandardScaler\n",
    "\n",
    "def evaluate_learners(models, X, y):\n",
    "    \"\"\" Evaluate each model in 'models' with cross-validation on the provided (X, y) data. \n",
    "    \n",
    "    Given a list of models [model1, model2, ..., modelN] return two lists:\n",
    "     - a list with the scores obtained on the training samples for each model,\n",
    "     - a list with the test scores obtained on the test samples for each model.\n",
    "     The order of scores should match the order in which the models were originally provided. E.g.:     \n",
    "     [Model1 train score, ..., ModelN train score], [Model1 test score, ..., ModelN test score]\n",
    "    \"\"\"\n",
    "    # Evaluate with 5-fold cross-validation.\n",
    "    xvals = [cross_validate(m, X, y, return_train_score= True, n_jobs=-1) for m in models]\n",
    "    test_scores = [x['test_score'] for x in xvals]\n",
    "    train_scores = [x['train_score'] for x in xvals]\n",
    "    return train_scores, test_scores"
   ]
  },
  {
   "cell_type": "markdown",
   "metadata": {},
   "source": [
    "### Exercise 1.2\n",
    "Call the function you created with a Linear Regression, Ridge, Lasso and ElasticNet, as well as kNN.\n",
    "Store the return values in the variables `train_scores` and `test_scores`. Then, run the code given below to produce a plot visualizing the scores."
   ]
  },
  {
   "cell_type": "code",
   "execution_count": null,
   "metadata": {},
   "outputs": [],
   "source": [
    "# Dummy code. Replace with the actual classifiers and scores\n",
    "classifiers = [LinearRegression()]\n",
    "train_scores, test_scores = [[0.6,0.7,0.8]], [[0.5,0.6,0.7]]"
   ]
  },
  {
   "cell_type": "markdown",
   "metadata": {},
   "source": [
    "#### Solution"
   ]
  },
  {
   "cell_type": "code",
   "execution_count": null,
   "metadata": {},
   "outputs": [],
   "source": [
    "models = [LinearRegression(), Ridge(), Lasso(), ElasticNet(), KNeighborsRegressor()]\n",
    "#models = np.array([m for m in models]).flatten()\n",
    "\n",
    "train_scores, test_scores = evaluate_learners(models, X, y)"
   ]
  },
  {
   "cell_type": "code",
   "execution_count": null,
   "metadata": {},
   "outputs": [],
   "source": [
    "# Plot a bar chart of the train and test scores of all the classifiers, including the variance as error bars\n",
    "# Note: we use some more advanced visualization and formatting tricks here to get a nice plot, but\n",
    "# it doesn't have to done this way, as long as the results are the same (or similar)\n",
    "fig, ax = plt.subplots(figsize=(10,6))\n",
    "width=0.45\n",
    "\n",
    "ax.barh(np.arange(len(train_scores)), np.mean(test_scores, axis=1), width,\n",
    "        yerr= np.std(test_scores, axis=1), color='green', label='test R^2')\n",
    "ax.barh(np.arange(len(train_scores))-width, np.mean(train_scores, axis=1), width,\n",
    "        yerr= np.std(train_scores, axis=1), color='red', label='train R^2')\n",
    "for i, te, tr in zip(np.arange(len(train_scores)),test_scores,train_scores):\n",
    "    ax.text(0, i, \"{:.3f} +- {:.3f}\".format(np.mean(te),np.std(te)), color=('white' if np.mean(te)>0.1 else 'black'), va='center')\n",
    "    ax.text(0, i-width, \"{:.3f} +- {:.3f}\".format(np.mean(tr),np.std(tr)), color=('white' if np.mean(tr)>0.1 else 'black'), va='center')\n",
    "labels = [c.__class__.__name__ if not hasattr(c, 'steps') else c.steps[0][0] + \"_\" + c.steps[1][0] for c in models]\n",
    "ax.set(yticks=np.arange(len(train_scores))-width/2, yticklabels=labels)\n",
    "ax.legend(bbox_to_anchor=(1.05, 1), loc=2)\n",
    "\n",
    "plt.show()"
   ]
  },
  {
   "cell_type": "markdown",
   "metadata": {},
   "source": [
    "### Exercise 1.3\n",
    "Interpret the plot. Which is the best regressor? Are any of the models overfitting? If so, what can we do to solve this? Is there a lot of variance in the results?"
   ]
  },
  {
   "cell_type": "markdown",
   "metadata": {},
   "source": [
    "#### Solution"
   ]
  },
  {
   "cell_type": "markdown",
   "metadata": {},
   "source": [
    "Linear regression and ridge regression don't surpass 0.5 $R^2$, yet don't seem to drastically overfit. kNN is drastically overfitting. Lasso and ElasticNet are catastrophically bad in their default settings."
   ]
  },
  {
   "cell_type": "markdown",
   "metadata": {},
   "source": [
    "## Exercise 2: Regularization \n",
    "We will now tune these algorithm's main regularization hyperparameter: the regularization hyperparameter (`alpha`) in Lasso and Ridge, and the number of neighbors (`n_neighbors`) in kNN.\n",
    "\n",
    "We expect the optimum for the alpha parameters to lie in $[10^{-12},10^{12}]$ and for n_neighbors between 1 and 60. alpha should be varied on a log scale (i.e. [0.01, 0.1, 1, 10, 100]), k should be varied uniformly or geometrically."
   ]
  },
  {
   "cell_type": "markdown",
   "metadata": {},
   "source": [
    "### Exercise 2.1\n",
    "Vary the hyperparameters in the range given above and, for each regressor, create a line plot that plots both the training and test score for every value of the regularization hyperparameter. Hence, you should produce 3 plots, one for each regressor. Use the default 5-fold cross validation for all scores, but only plot the means.\n",
    "\n",
    "Hints:\n",
    "* Think about the time complexity of these models. Trying too many hyperparameter values may take too much time.\n",
    "* You can make use of numpy's [logspace](https://docs.scipy.org/doc/numpy/reference/generated/numpy.logspace.html), [geomspace](https://docs.scipy.org/doc/numpy/reference/generated/numpy.geomspace.html?highlight=geomspace#numpy.geomspace), and [linspace](https://docs.scipy.org/doc/numpy/reference/generated/numpy.linspace.html#numpy.linspace) functions.\n",
    "* You can use matplotlib's default [plot](https://matplotlib.org/tutorials/introductory/pyplot.html) function to plot the train and test scores.\n",
    "* You can manually loop over the hyperparameter ranges, or you can already check out scikit-learn's [GridSearchCV](https://scikit-learn.org/stable/modules/generated/sklearn.model_selection.GridSearchCV.html) function to save some programming. We'll see it again later in the course."
   ]
  },
  {
   "cell_type": "markdown",
   "metadata": {},
   "source": [
    "#### Solution"
   ]
  },
  {
   "cell_type": "code",
   "execution_count": null,
   "metadata": {},
   "outputs": [],
   "source": [
    "# Design the hyperparameter search space\n",
    "from sklearn.model_selection import GridSearchCV\n",
    "\n",
    "param_a = {'alpha': np.logspace(-12, 12, num=22)}\n",
    "param_elastic = {'l1_ratio': np.linspace(0, 1, num=11),\n",
    "                 'alpha': np.logspace(-12, 12, num=25)}\n",
    "param_k = {'kneighborsregressor__n_neighbors': np.geomspace(1, 60, num=12, dtype=int)[1:]}\n",
    "\n",
    "models = [Ridge(), Lasso(), make_pipeline(StandardScaler(), KNeighborsRegressor()), ElasticNet()]\n",
    "\n",
    "grids = [param_a,param_a,param_k,param_elastic]"
   ]
  },
  {
   "cell_type": "code",
   "execution_count": null,
   "metadata": {},
   "outputs": [],
   "source": [
    "# Generic plot for 1D grid search\n",
    "def plot_tuning(grid_search, param_name, ax):\n",
    "    \"\"\"\n",
    "    grid_search: the result of the GridSearchCV\n",
    "    param_name: the name of the parameter that is being varied\n",
    "    \"\"\"\n",
    "    ax.plot(grid_search.param_grid[param_name], grid_search.cv_results_['mean_test_score'], marker = '.', label = 'Test score')\n",
    "    ax.plot(grid_search.param_grid[param_name], grid_search.cv_results_['mean_train_score'], marker = '.', label = 'Train score')\n",
    "    ax.set_ylabel('score (ACC)')\n",
    "    ax.set_xlabel(param_name)\n",
    "    ax.legend(loc='lower left')\n",
    "    ax.set_xscale('log')\n",
    "    ax.set_title(grid_search.best_estimator_.__class__.__name__)\n",
    "    bp, bs = grid_search.best_params_[param_name], grid_search.best_score_\n",
    "    ax.text(bp,bs+0.01,\"  best:{:.2E}, R2:{:.4f}\".format(bp,bs))"
   ]
  },
  {
   "cell_type": "code",
   "execution_count": null,
   "metadata": {},
   "outputs": [],
   "source": [
    "# Run the grid search\n",
    "grid_searches = [GridSearchCV(m,grid,n_jobs=-1, cv=3, return_train_score=True).fit(X,y) for m,grid in zip(models,grids)]\n",
    "fig, axes = plt.subplots(nrows=1, ncols=3, figsize=(15,5))\n",
    "for grid_search, param, ax in zip(grid_searches[0:3],['alpha','alpha','kneighborsregressor__n_neighbors'],axes):\n",
    "    plot_tuning(grid_search, param, ax)"
   ]
  },
  {
   "cell_type": "markdown",
   "metadata": {},
   "source": [
    "### Exercise 2.2\n",
    "Interpret the plots. When are the methods underfitting? When are they overfitting? How sensitive are they to the regularization hyperparameter?"
   ]
  },
  {
   "cell_type": "markdown",
   "metadata": {},
   "source": [
    "#### Solution"
   ]
  },
  {
   "cell_type": "markdown",
   "metadata": {},
   "source": [
    "Ridge and Lasso behave very similarly, producing the same optimal result for small alpha's (small amounts of regularization), and then quickly dropping down to default performance (0 $R^2$) around alpha=0.1. Any more regularization makes the model completely underfit the data. The only difference is that Ridge has a slightly more gradual descent than Lasso. kNN yields a worse score (0.4175 $R^2$) even after tuning. It has a clear optimum around 9 nearest neighbors, after which it gradually starts underfitting."
   ]
  },
  {
   "cell_type": "markdown",
   "metadata": {},
   "source": [
    "### Exercise 2.3\n",
    "ElasticNet allows to mix L1 and L2 loss, and the `l1_ratio` hyperparameter defines the ratio of L1 loss. Hence, it has two interacting hyperparameters: l1_ratio and alpha. Run a grid search to obtain a matrix of l1_ratio and alpha values and the resulting cross-validation scores. Then, use the function provided below to plot a heatmap of all values and interpret the result. Can you explain how the two hyperparameters interact?"
   ]
  },
  {
   "cell_type": "code",
   "execution_count": null,
   "metadata": {},
   "outputs": [],
   "source": [
    "# Generic heatmap\n",
    "def heatmap(values, xlabel, ylabel, xticklabels, yticklabels, cmap=None,\n",
    "            vmin=None, vmax=None, ax=None, fmt=\"%0.2f\", printvalues=False):\n",
    "    \"\"\"\n",
    "    Plots a heatmap for the performance of a model for every combination of two hyperparameter values\n",
    "    \n",
    "    values: nxn array with all evaluation results, varying the first hyperparameter first\n",
    "    xlabel: name of the first hyperparameter\n",
    "    ylabel: name of the second hyperparameter\n",
    "    xticklabels: values of the first hyperparameter\n",
    "    yticklabels: values of the second hyperparameter\n",
    "    cmap: colormap\n",
    "    vmin: minimal score\n",
    "    vmax: maximal score\n",
    "    ax: plot axes\n",
    "    fmt: format for printing the scores\n",
    "    printvalues: whether to print the scores\n",
    "    \"\"\"\n",
    "    if ax is None:\n",
    "        ax = plt.gca()\n",
    "    img = ax.pcolor(values, cmap=cmap, vmin=None, vmax=None)\n",
    "    img.update_scalarmappable()\n",
    "    ax.set_xlabel(xlabel, fontsize=10)\n",
    "    ax.set_ylabel(ylabel, fontsize=10)\n",
    "    ax.set_xticks(np.arange(len(xticklabels)) + .5)\n",
    "    ax.set_yticks(np.arange(len(yticklabels)) + .5)\n",
    "    ax.set_xticklabels(xticklabels)\n",
    "    ax.set_yticklabels(yticklabels)\n",
    "    ax.set_aspect(1)\n",
    "    \n",
    "    ax.tick_params(axis='y', labelsize=12)\n",
    "    ax.tick_params(axis='x', labelsize=12, labelrotation=90)\n",
    "\n",
    "    if(printvalues):\n",
    "        for p, color, value in zip(img.get_paths(), img.get_facecolors(), img.get_array()):\n",
    "            x, y = p.vertices[:-2, :].mean(0)\n",
    "            if np.mean(color[:3]) > 0.5:\n",
    "                c = 'k'\n",
    "            else:\n",
    "                c = 'w'\n",
    "            ax.text(x, y, fmt % value, color=c, ha=\"center\", va=\"center\", size=10)\n",
    "    return img"
   ]
  },
  {
   "cell_type": "markdown",
   "metadata": {},
   "source": [
    "#### Solution"
   ]
  },
  {
   "cell_type": "code",
   "execution_count": null,
   "metadata": {},
   "outputs": [],
   "source": [
    "scores = np.array(pd.DataFrame(grid_searches[3].cv_results_).mean_test_score).reshape(25, 11).T\n",
    "plt.rcParams.update({'font.size': 12})\n",
    "fig, axes = plt.subplots(1, 1, figsize=(13, 13))\n",
    "heatmap(scores, xlabel='alpha', xticklabels=list(map(lambda n: \"%.E\" % n, param_elastic['alpha'])),\n",
    "        ylabel='l1_ratio', yticklabels=np.around(param_elastic['l1_ratio'],4), cmap=\"viridis\", fmt=\"%.2f\", ax=axes);"
   ]
  },
  {
   "cell_type": "markdown",
   "metadata": {},
   "source": [
    "For ElasticNet we see the same sudden drop in performance around alpha=0.1. For l1_ratio=0, it is identical to Ridge (L2), showing a more gradual descent. For l1_ration=1, it is identical to Lasso (L1), showing the same sharp performance drop."
   ]
  },
  {
   "cell_type": "markdown",
   "metadata": {},
   "source": [
    "## Exercise 3: Visualizing coefficients\n",
    "Finally, let's verify whether the different optimized linear models also find the same coefficients. \n",
    "\n",
    "### Exercise 3.1\n",
    "Draw a [scatterplot](https://matplotlib.org/gallery/shapes_and_collections/scatter.html) plotting the coefficients of the different models in different colors. Do you see much difference between the different models?\n",
    "\n",
    "For all models, choose an alpha parameter that seems to work well in the previous exercise. When in doubt, use alpha=0.001."
   ]
  },
  {
   "cell_type": "markdown",
   "metadata": {},
   "source": [
    "#### Solution"
   ]
  },
  {
   "cell_type": "code",
   "execution_count": null,
   "metadata": {},
   "outputs": [],
   "source": [
    "def scatter_coefficients(alpha=0.001):\n",
    "    models = [LinearRegression(), Ridge(alpha=alpha), Lasso(alpha=alpha), ElasticNet(alpha=alpha)]\n",
    "    coeff = [m.fit(X,y).coef_ for m in models]\n",
    "    attribute_names = list(X)\n",
    "\n",
    "    col = ['k','b','r','y']\n",
    "    plt.figure()\n",
    "    plt.xticks(rotation=45,ha=\"right\")\n",
    "    for i in range(0,4):\n",
    "        plt.scatter(attribute_names, coeff[i], s=(4-i)*40, c=col[i], label=models[i].__class__.__name__)\n",
    "    plt.legend();\n",
    "scatter_coefficients(alpha=0.001)"
   ]
  },
  {
   "cell_type": "markdown",
   "metadata": {},
   "source": [
    "The different techniques find almost _exactly_ the same coefficients (the markers overlap). cars_per_hour is the most influential, followed by temperature_diff_2m_25m and wind_speed. The others are nearly zero."
   ]
  },
  {
   "cell_type": "markdown",
   "metadata": {},
   "source": [
    "### Exercise 3.2\n",
    "Redraw the same plot but now using a large amount of regularization (e.g. alpha=1). What do you observe? Does this help you explain the performance difference between Ridge and Lasso in exercise 1.2? "
   ]
  },
  {
   "cell_type": "markdown",
   "metadata": {},
   "source": [
    "#### Solution\n",
    "Increasing alpha makes Lasso completely ignore most features: the coefficients are exactly 0. Hence, it is important to tune alpha carefully."
   ]
  },
  {
   "cell_type": "code",
   "execution_count": null,
   "metadata": {},
   "outputs": [],
   "source": [
    "scatter_coefficients(alpha=1)"
   ]
  },
  {
   "cell_type": "code",
   "execution_count": null,
   "metadata": {},
   "outputs": [],
   "source": []
  }
 ],
 "metadata": {
  "anaconda-cloud": {},
  "kernelspec": {
   "display_name": "ml",
   "language": "python",
   "name": "python3"
  },
  "language_info": {
   "codemirror_mode": {
    "name": "ipython",
    "version": 3
   },
   "file_extension": ".py",
   "mimetype": "text/x-python",
   "name": "python",
   "nbconvert_exporter": "python",
   "pygments_lexer": "ipython3",
   "version": "3.10.16"
  }
 },
 "nbformat": 4,
 "nbformat_minor": 4
}
