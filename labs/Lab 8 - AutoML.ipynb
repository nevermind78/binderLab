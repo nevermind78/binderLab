{
 "cells": [
  {
   "cell_type": "markdown",
   "metadata": {},
   "source": [
    "# Lab 8: AutoML"
   ]
  },
  {
   "cell_type": "code",
   "execution_count": 1,
   "metadata": {},
   "outputs": [],
   "source": [
    "# Auto-setup when running on Google Colab\n",
    "if 'google.colab' in str(get_ipython()):\n",
    "    !pip install --quiet openml\n",
    "    !pip install --quiet gama\n",
    "\n",
    "# General imports\n",
    "%matplotlib inline\n",
    "import numpy as np\n",
    "import pandas as pd\n",
    "import matplotlib.pyplot as plt\n",
    "import openml as oml\n",
    "import tensorflow as tf\n",
    "\n",
    "import warnings\n",
    "warnings.simplefilter(action=\"ignore\", category=FutureWarning)"
   ]
  },
  {
   "cell_type": "markdown",
   "metadata": {},
   "source": [
    "## Exercise 1: Using GAMA"
   ]
  },
  {
   "cell_type": "markdown",
   "metadata": {},
   "source": [
    "### Installation"
   ]
  },
  {
   "cell_type": "markdown",
   "metadata": {},
   "source": [
    "In this exercise we will use AutoML tool [GAMA](https://github.com/PGijsbers/gama/).\n",
    "The exercise is self-contained, but if you want to know more the documentation is found [here](https://pgijsbers.github.io/gama/develop/).\n",
    "First, make sure GAMA is installed and/or check the right version is installed:"
   ]
  },
  {
   "cell_type": "code",
   "execution_count": 2,
   "metadata": {},
   "outputs": [],
   "source": [
    "#!pip install --quiet gama\n",
    "# Note: On MacOS, you may also need to install openblas, e.g. with `brew install openblas`"
   ]
  },
  {
   "cell_type": "code",
   "execution_count": 3,
   "metadata": {},
   "outputs": [
    {
     "name": "stdout",
     "output_type": "stream",
     "text": [
      "OK. You may continue :)\n"
     ]
    }
   ],
   "source": [
    "from packaging import version\n",
    "import gama\n",
    "if version.parse(gama.__version__) < version.parse(\"20.1.0\"):\n",
    "    print(\"GAMA is outdated. Please update now!\")\n",
    "else:\n",
    "    print(\"OK. You may continue :)\")"
   ]
  },
  {
   "cell_type": "markdown",
   "metadata": {},
   "source": [
    "*note*:\n",
    "> GAMA is under active development. Parts of the interface are still subject to change. We are also using small time budgets because the lab only lasts two hours. For that reason some of the results may be affected more than usual by the randomness inherent to evolutionary search."
   ]
  },
  {
   "cell_type": "markdown",
   "metadata": {},
   "source": [
    "### Standard use case on NO<sub>2</sub> data"
   ]
  },
  {
   "cell_type": "markdown",
   "metadata": {},
   "source": [
    "In lab session 1, we tested several models the predict **NO<sub>2</sub>** levels.\n",
    "Here we will use GAMA automatically find a pipeline for this task.\n",
    "First we have to fetch the data from OpenML, and split it into a train and test set:"
   ]
  },
  {
   "cell_type": "code",
   "execution_count": 4,
   "metadata": {},
   "outputs": [],
   "source": [
    "from sklearn.model_selection import train_test_split\n",
    "no2 = oml.datasets.get_dataset(547)\n",
    "X, y, _, _ = no2.get_data(target=no2.default_target_attribute, dataset_format='dataframe');\n",
    "X = X.drop('day',axis=1)\n",
    "X_train, X_test, y_train, y_test = train_test_split(X, y, train_size=0.8)"
   ]
  },
  {
   "cell_type": "markdown",
   "metadata": {},
   "source": [
    "We can then import and use GAMA just like a scikit-learn classifier or regressor:"
   ]
  },
  {
   "cell_type": "code",
   "execution_count": 5,
   "metadata": {},
   "outputs": [],
   "source": [
    "import logging\n",
    "from gama import GamaClassifier, GamaRegressor\n",
    "automl = GamaRegressor(\n",
    "    max_total_time=60, # in seconds\n",
    "    n_jobs=1,  # one subprocess\n",
    "    scoring='r2',  # metric to optimize for\n",
    "    verbosity=logging.WARNING,  # to get printed updates about search progress\n",
    "    output_directory=\"gama_log\",  # name for a log file to record search output in\n",
    ")"
   ]
  },
  {
   "cell_type": "markdown",
   "metadata": {},
   "source": [
    "#### Exercise 1.1\n",
    "Starting AutoML is now as simple as calling `fit` with the training data. You can use the `score` function to get the model's score on the test set. Using GAMA, fit a model to the data and report the score."
   ]
  },
  {
   "cell_type": "code",
   "execution_count": 6,
   "metadata": {},
   "outputs": [
    {
     "name": "stderr",
     "output_type": "stream",
     "text": [
      "/Users/jvanscho/miniforge3/lib/python3.9/site-packages/statsmodels/tools/_testing.py:19: FutureWarning: pandas.util.testing is deprecated. Use the functions in the public API at pandas.testing instead.\n",
      "  import pandas.util.testing as tm\n",
      "/Users/jvanscho/miniforge3/lib/python3.9/site-packages/statsmodels/tools/_testing.py:19: FutureWarning: pandas.util.testing is deprecated. Use the functions in the public API at pandas.testing instead.\n",
      "  import pandas.util.testing as tm\n"
     ]
    },
    {
     "data": {
      "text/plain": [
       "<gama.GamaRegressor.GamaRegressor at 0x2a2e21940>"
      ]
     },
     "execution_count": 6,
     "metadata": {},
     "output_type": "execute_result"
    }
   ],
   "source": [
    "# Exercise 1.1: Call fit and score\n",
    "automl.fit(X_train, y_train)"
   ]
  },
  {
   "cell_type": "code",
   "execution_count": 7,
   "metadata": {},
   "outputs": [
    {
     "data": {
      "text/plain": [
       "0.18004587099500413"
      ]
     },
     "execution_count": 7,
     "metadata": {},
     "output_type": "execute_result"
    }
   ],
   "source": [
    "automl.score(X_test, y_test)"
   ]
  },
  {
   "cell_type": "markdown",
   "metadata": {},
   "source": [
    "How does the score compare to the maximum of `0.4796` found in lab 1?\n",
    "It's likely better. Because the dataset is so small, even in one minute time GAMA can evaluate many pipelines.\n",
    "GAMA also considers more (and different) models than those from lab 1.\n",
    "\n",
    "The number of pipelines that have been evaluated should've been printed as cell output.\n",
    "But we can also have a closer look at which pipelines have been evaluated.\n",
    "We do this by parsing the log GAMA created (filename set by `keep_analysis_log`) with the builtin `GamaReport` parser:"
   ]
  },
  {
   "cell_type": "code",
   "execution_count": 8,
   "metadata": {},
   "outputs": [],
   "source": [
    "def transform_evaluations(df):\n",
    "    \"\"\" The GamaReport was initially developed for use within GAMA tooling.\n",
    "    For this reason it contains some hard to interpret, useless or internal data.\n",
    "    For clarity, we filter this out for you.\n",
    "    \"\"\"\n",
    "    df = df.drop(['id', 'length_cummax', 'relative_end'], axis=1)\n",
    "    df['length'] = -df['length']\n",
    "    return df"
   ]
  },
  {
   "cell_type": "code",
   "execution_count": 9,
   "metadata": {},
   "outputs": [
    {
     "name": "stdout",
     "output_type": "stream",
     "text": [
      "preprocessing default after 0.0009s.\n",
      "\n",
      "search AsyncEA after 53.0824s.\n",
      "\n",
      "postprocess BestFitPostProcessing after 0.1582s.\n",
      "\n"
     ]
    },
    {
     "data": {
      "text/html": [
       "<div>\n",
       "<style scoped>\n",
       "    .dataframe tbody tr th:only-of-type {\n",
       "        vertical-align: middle;\n",
       "    }\n",
       "\n",
       "    .dataframe tbody tr th {\n",
       "        vertical-align: top;\n",
       "    }\n",
       "\n",
       "    .dataframe thead th {\n",
       "        text-align: right;\n",
       "    }\n",
       "</style>\n",
       "<table border=\"1\" class=\"dataframe\">\n",
       "  <thead>\n",
       "    <tr style=\"text-align: right;\">\n",
       "      <th></th>\n",
       "      <th>pid</th>\n",
       "      <th>start</th>\n",
       "      <th>duration</th>\n",
       "      <th>t_process</th>\n",
       "      <th>score</th>\n",
       "      <th>pipeline</th>\n",
       "      <th>error</th>\n",
       "      <th>parent0</th>\n",
       "      <th>parent1</th>\n",
       "      <th>origin</th>\n",
       "      <th>n</th>\n",
       "      <th>r2</th>\n",
       "      <th>length</th>\n",
       "      <th>r2_cummax</th>\n",
       "    </tr>\n",
       "  </thead>\n",
       "  <tbody>\n",
       "    <tr>\n",
       "      <th>19593</th>\n",
       "      <td>79783</td>\n",
       "      <td>2022-02-02 22:24:07.645673</td>\n",
       "      <td>0 days 00:00:00.000124931</td>\n",
       "      <td>0.000132</td>\n",
       "      <td>(-inf, -2)</td>\n",
       "      <td>GradientBoostingRegressor(Nystroem(data, Nystr...</td>\n",
       "      <td>&lt;class 'TypeError'&gt; check_cv() takes from 0 to...</td>\n",
       "      <td>4aa674e3-e797-490a-b405-e125558a5f88</td>\n",
       "      <td>NaN</td>\n",
       "      <td>mut_insert</td>\n",
       "      <td>19593</td>\n",
       "      <td>-inf</td>\n",
       "      <td>2.0</td>\n",
       "      <td>-inf</td>\n",
       "    </tr>\n",
       "    <tr>\n",
       "      <th>22148</th>\n",
       "      <td>79783</td>\n",
       "      <td>2022-02-02 22:24:10.818902</td>\n",
       "      <td>0 days 00:00:00.000092983</td>\n",
       "      <td>0.000101</td>\n",
       "      <td>(-inf, -2)</td>\n",
       "      <td>GradientBoostingRegressor(MaxAbsScaler(data), ...</td>\n",
       "      <td>&lt;class 'TypeError'&gt; check_cv() takes from 0 to...</td>\n",
       "      <td>dab8c779-2661-4110-acc3-fe463080337e</td>\n",
       "      <td>NaN</td>\n",
       "      <td>mut_insert</td>\n",
       "      <td>22148</td>\n",
       "      <td>-inf</td>\n",
       "      <td>2.0</td>\n",
       "      <td>-inf</td>\n",
       "    </tr>\n",
       "    <tr>\n",
       "      <th>42800</th>\n",
       "      <td>79783</td>\n",
       "      <td>2022-02-02 22:24:35.461106</td>\n",
       "      <td>0 days 00:00:00.000218153</td>\n",
       "      <td>0.000224</td>\n",
       "      <td>(-inf, -2)</td>\n",
       "      <td>GradientBoostingRegressor(SelectFwe(data, Sele...</td>\n",
       "      <td>&lt;class 'TypeError'&gt; check_cv() takes from 0 to...</td>\n",
       "      <td>27903398-5556-469f-9c6c-e23f8593484d</td>\n",
       "      <td>NaN</td>\n",
       "      <td>mut_insert</td>\n",
       "      <td>42800</td>\n",
       "      <td>-inf</td>\n",
       "      <td>2.0</td>\n",
       "      <td>-inf</td>\n",
       "    </tr>\n",
       "    <tr>\n",
       "      <th>42865</th>\n",
       "      <td>79783</td>\n",
       "      <td>2022-02-02 22:24:35.538670</td>\n",
       "      <td>0 days 00:00:00.000098944</td>\n",
       "      <td>0.000103</td>\n",
       "      <td>(-inf, -2)</td>\n",
       "      <td>GradientBoostingRegressor(MaxAbsScaler(data), ...</td>\n",
       "      <td>&lt;class 'TypeError'&gt; check_cv() takes from 0 to...</td>\n",
       "      <td>018364fe-f35c-4c82-a383-bdccbcf7ce43</td>\n",
       "      <td>NaN</td>\n",
       "      <td>mut_insert</td>\n",
       "      <td>42865</td>\n",
       "      <td>-inf</td>\n",
       "      <td>2.0</td>\n",
       "      <td>-inf</td>\n",
       "    </tr>\n",
       "    <tr>\n",
       "      <th>43600</th>\n",
       "      <td>79783</td>\n",
       "      <td>2022-02-02 22:24:36.388697</td>\n",
       "      <td>0 days 00:00:00.000099182</td>\n",
       "      <td>0.000103</td>\n",
       "      <td>(-inf, -1)</td>\n",
       "      <td>GradientBoostingRegressor(data, GradientBoosti...</td>\n",
       "      <td>&lt;class 'TypeError'&gt; check_cv() takes from 0 to...</td>\n",
       "      <td>ec5cc934-0d3b-4fc8-95ab-2d3a17f2b338</td>\n",
       "      <td>NaN</td>\n",
       "      <td>mut_replace_terminal</td>\n",
       "      <td>43600</td>\n",
       "      <td>-inf</td>\n",
       "      <td>1.0</td>\n",
       "      <td>-inf</td>\n",
       "    </tr>\n",
       "  </tbody>\n",
       "</table>\n",
       "</div>"
      ],
      "text/plain": [
       "         pid                      start                  duration  t_process  \\\n",
       "19593  79783 2022-02-02 22:24:07.645673 0 days 00:00:00.000124931   0.000132   \n",
       "22148  79783 2022-02-02 22:24:10.818902 0 days 00:00:00.000092983   0.000101   \n",
       "42800  79783 2022-02-02 22:24:35.461106 0 days 00:00:00.000218153   0.000224   \n",
       "42865  79783 2022-02-02 22:24:35.538670 0 days 00:00:00.000098944   0.000103   \n",
       "43600  79783 2022-02-02 22:24:36.388697 0 days 00:00:00.000099182   0.000103   \n",
       "\n",
       "            score                                           pipeline  \\\n",
       "19593  (-inf, -2)  GradientBoostingRegressor(Nystroem(data, Nystr...   \n",
       "22148  (-inf, -2)  GradientBoostingRegressor(MaxAbsScaler(data), ...   \n",
       "42800  (-inf, -2)  GradientBoostingRegressor(SelectFwe(data, Sele...   \n",
       "42865  (-inf, -2)  GradientBoostingRegressor(MaxAbsScaler(data), ...   \n",
       "43600  (-inf, -1)  GradientBoostingRegressor(data, GradientBoosti...   \n",
       "\n",
       "                                                   error  \\\n",
       "19593  <class 'TypeError'> check_cv() takes from 0 to...   \n",
       "22148  <class 'TypeError'> check_cv() takes from 0 to...   \n",
       "42800  <class 'TypeError'> check_cv() takes from 0 to...   \n",
       "42865  <class 'TypeError'> check_cv() takes from 0 to...   \n",
       "43600  <class 'TypeError'> check_cv() takes from 0 to...   \n",
       "\n",
       "                                    parent0 parent1                origin  \\\n",
       "19593  4aa674e3-e797-490a-b405-e125558a5f88     NaN            mut_insert   \n",
       "22148  dab8c779-2661-4110-acc3-fe463080337e     NaN            mut_insert   \n",
       "42800  27903398-5556-469f-9c6c-e23f8593484d     NaN            mut_insert   \n",
       "42865  018364fe-f35c-4c82-a383-bdccbcf7ce43     NaN            mut_insert   \n",
       "43600  ec5cc934-0d3b-4fc8-95ab-2d3a17f2b338     NaN  mut_replace_terminal   \n",
       "\n",
       "           n   r2  length  r2_cummax  \n",
       "19593  19593 -inf     2.0       -inf  \n",
       "22148  22148 -inf     2.0       -inf  \n",
       "42800  42800 -inf     2.0       -inf  \n",
       "42865  42865 -inf     2.0       -inf  \n",
       "43600  43600 -inf     1.0       -inf  "
      ]
     },
     "execution_count": 9,
     "metadata": {},
     "output_type": "execute_result"
    }
   ],
   "source": [
    "from gama.logging.GamaReport import GamaReport\n",
    "report = GamaReport(log_directory=\"gama_log\")\n",
    "evaluations = transform_evaluations(report.evaluations)\n",
    "evaluations.sample(5).sort_values(by='n')  # Show 5 random samples from the dataframe, but sort them by order of n."
   ]
  },
  {
   "cell_type": "markdown",
   "metadata": {},
   "source": [
    "This dataframe has the following columns:\n",
    " - n: the n-th pipeline to be evaluated in search\n",
    " - start: start time of the evaluation\n",
    " - duration: the time it took to evaluate the model (in seconds)\n",
    " - r2: the r2 score of the pipeline (based on 5-fold cross-validation on the training data)\n",
    " - length: the number of steps in the pipeline times (i.e., length 2 means one preprocessing step and one estimator).\n",
    " - pipeline: the pipeline (more info below)\n",
    " - r2_cummax: the maximum r2 score found at evaluation `n`"
   ]
  },
  {
   "cell_type": "markdown",
   "metadata": {},
   "source": [
    "#### Exercise 1.2:\n",
    "Find the best pipeline of each length from the `evaluations` dataframe (or one of the best, in case of a tie)."
   ]
  },
  {
   "cell_type": "code",
   "execution_count": 10,
   "metadata": {},
   "outputs": [
    {
     "data": {
      "text/html": [
       "<div>\n",
       "<style scoped>\n",
       "    .dataframe tbody tr th:only-of-type {\n",
       "        vertical-align: middle;\n",
       "    }\n",
       "\n",
       "    .dataframe tbody tr th {\n",
       "        vertical-align: top;\n",
       "    }\n",
       "\n",
       "    .dataframe thead th {\n",
       "        text-align: right;\n",
       "    }\n",
       "</style>\n",
       "<table border=\"1\" class=\"dataframe\">\n",
       "  <thead>\n",
       "    <tr style=\"text-align: right;\">\n",
       "      <th></th>\n",
       "      <th>pid</th>\n",
       "      <th>start</th>\n",
       "      <th>duration</th>\n",
       "      <th>t_process</th>\n",
       "      <th>score</th>\n",
       "      <th>pipeline</th>\n",
       "      <th>error</th>\n",
       "      <th>parent0</th>\n",
       "      <th>parent1</th>\n",
       "      <th>origin</th>\n",
       "      <th>n</th>\n",
       "      <th>r2</th>\n",
       "      <th>length</th>\n",
       "      <th>r2_cummax</th>\n",
       "    </tr>\n",
       "  </thead>\n",
       "  <tbody>\n",
       "    <tr>\n",
       "      <th>0</th>\n",
       "      <td>79783</td>\n",
       "      <td>2022-02-02 22:23:44.711950</td>\n",
       "      <td>0 days 00:00:00.000200987</td>\n",
       "      <td>0.000197</td>\n",
       "      <td>(-inf, -3)</td>\n",
       "      <td>GradientBoostingRegressor(StandardScaler(MaxAb...</td>\n",
       "      <td>&lt;class 'TypeError'&gt; check_cv() takes from 0 to...</td>\n",
       "      <td>NaN</td>\n",
       "      <td>NaN</td>\n",
       "      <td>new</td>\n",
       "      <td>0</td>\n",
       "      <td>-inf</td>\n",
       "      <td>3.0</td>\n",
       "      <td>-inf</td>\n",
       "    </tr>\n",
       "    <tr>\n",
       "      <th>29319</th>\n",
       "      <td>79783</td>\n",
       "      <td>2022-02-02 22:24:19.406984</td>\n",
       "      <td>0 days 00:00:00.000093937</td>\n",
       "      <td>0.000100</td>\n",
       "      <td>(-inf, -1)</td>\n",
       "      <td>GradientBoostingRegressor(data, GradientBoosti...</td>\n",
       "      <td>&lt;class 'TypeError'&gt; check_cv() takes from 0 to...</td>\n",
       "      <td>b664ffba-b8e4-4989-b205-0717fbcb3995</td>\n",
       "      <td>NaN</td>\n",
       "      <td>mut_replace_terminal</td>\n",
       "      <td>29319</td>\n",
       "      <td>-inf</td>\n",
       "      <td>1.0</td>\n",
       "      <td>-inf</td>\n",
       "    </tr>\n",
       "    <tr>\n",
       "      <th>29311</th>\n",
       "      <td>79783</td>\n",
       "      <td>2022-02-02 22:24:19.398273</td>\n",
       "      <td>0 days 00:00:00.000107050</td>\n",
       "      <td>0.000112</td>\n",
       "      <td>(-inf, -2)</td>\n",
       "      <td>ExtraTreesRegressor(FastICA(data, FastICA.tol=...</td>\n",
       "      <td>&lt;class 'TypeError'&gt; check_cv() takes from 0 to...</td>\n",
       "      <td>f5292317-1ea0-42a9-8ee3-505328a6bd9c</td>\n",
       "      <td>NaN</td>\n",
       "      <td>mut_insert</td>\n",
       "      <td>29311</td>\n",
       "      <td>-inf</td>\n",
       "      <td>2.0</td>\n",
       "      <td>-inf</td>\n",
       "    </tr>\n",
       "    <tr>\n",
       "      <th>88</th>\n",
       "      <td>79783</td>\n",
       "      <td>2022-02-02 22:23:44.748849</td>\n",
       "      <td>0 days 00:00:00.000212908</td>\n",
       "      <td>0.000219</td>\n",
       "      <td>(-inf, -4)</td>\n",
       "      <td>DecisionTreeRegressor(StandardScaler(Normalize...</td>\n",
       "      <td>&lt;class 'TypeError'&gt; check_cv() takes from 0 to...</td>\n",
       "      <td>d4670a36-d05a-445d-9d17-18dd92f205b2</td>\n",
       "      <td>NaN</td>\n",
       "      <td>mut_insert</td>\n",
       "      <td>88</td>\n",
       "      <td>-inf</td>\n",
       "      <td>4.0</td>\n",
       "      <td>-inf</td>\n",
       "    </tr>\n",
       "  </tbody>\n",
       "</table>\n",
       "</div>"
      ],
      "text/plain": [
       "         pid                      start                  duration  t_process  \\\n",
       "0      79783 2022-02-02 22:23:44.711950 0 days 00:00:00.000200987   0.000197   \n",
       "29319  79783 2022-02-02 22:24:19.406984 0 days 00:00:00.000093937   0.000100   \n",
       "29311  79783 2022-02-02 22:24:19.398273 0 days 00:00:00.000107050   0.000112   \n",
       "88     79783 2022-02-02 22:23:44.748849 0 days 00:00:00.000212908   0.000219   \n",
       "\n",
       "            score                                           pipeline  \\\n",
       "0      (-inf, -3)  GradientBoostingRegressor(StandardScaler(MaxAb...   \n",
       "29319  (-inf, -1)  GradientBoostingRegressor(data, GradientBoosti...   \n",
       "29311  (-inf, -2)  ExtraTreesRegressor(FastICA(data, FastICA.tol=...   \n",
       "88     (-inf, -4)  DecisionTreeRegressor(StandardScaler(Normalize...   \n",
       "\n",
       "                                                   error  \\\n",
       "0      <class 'TypeError'> check_cv() takes from 0 to...   \n",
       "29319  <class 'TypeError'> check_cv() takes from 0 to...   \n",
       "29311  <class 'TypeError'> check_cv() takes from 0 to...   \n",
       "88     <class 'TypeError'> check_cv() takes from 0 to...   \n",
       "\n",
       "                                    parent0 parent1                origin  \\\n",
       "0                                       NaN     NaN                   new   \n",
       "29319  b664ffba-b8e4-4989-b205-0717fbcb3995     NaN  mut_replace_terminal   \n",
       "29311  f5292317-1ea0-42a9-8ee3-505328a6bd9c     NaN            mut_insert   \n",
       "88     d4670a36-d05a-445d-9d17-18dd92f205b2     NaN            mut_insert   \n",
       "\n",
       "           n   r2  length  r2_cummax  \n",
       "0          0 -inf     3.0       -inf  \n",
       "29319  29319 -inf     1.0       -inf  \n",
       "29311  29311 -inf     2.0       -inf  \n",
       "88        88 -inf     4.0       -inf  "
      ]
     },
     "execution_count": 10,
     "metadata": {},
     "output_type": "execute_result"
    }
   ],
   "source": [
    "# Exercise 1.2: Find the best pipeline of each length\n",
    "evaluations.sort_values('r2', ascending=False).drop_duplicates(['length'])"
   ]
  },
  {
   "cell_type": "markdown",
   "metadata": {},
   "source": [
    "To visualize the progress of search, plot:\n",
    " - The `r2` score for each evaluation as a function of `n`, preferably only for those evaluations with an `r2` score of at least 0.\n",
    " - The maximum `r2` score as a function of `n`"
   ]
  },
  {
   "cell_type": "code",
   "execution_count": 11,
   "metadata": {},
   "outputs": [
    {
     "data": {
      "text/plain": [
       "<AxesSubplot:xlabel='n'>"
      ]
     },
     "execution_count": 11,
     "metadata": {},
     "output_type": "execute_result"
    },
    {
     "data": {
      "image/png": "[encoded data removed]",
      "text/plain": [
       "<Figure size 432x288 with 1 Axes>"
      ]
     },
     "metadata": {
      "needs_background": "light"
     },
     "output_type": "display_data"
    },
    {
     "data": {
      "image/png": "[encoded data removed]",
      "text/plain": [
       "<Figure size 432x288 with 1 Axes>"
      ]
     },
     "metadata": {
      "needs_background": "light"
     },
     "output_type": "display_data"
    }
   ],
   "source": [
    "evaluations[evaluations['r2'] > 0].plot.scatter(x='n', y='r2')\n",
    "evaluations.plot.line(x='n', y='r2_cummax')"
   ]
  },
  {
   "cell_type": "markdown",
   "metadata": {},
   "source": [
    "### Automatic Ensembles on Covertype"
   ]
  },
  {
   "cell_type": "markdown",
   "metadata": {},
   "source": [
    "Next we will take a look at a classification problem, and change the AutoML pipeline.\n",
    "\n",
    "#### Exercise 1.3:\n",
    "Download the covertype dataset (id: 180) that we saw in lab 3.\n",
    "First take a stratified subsample of 50% of the data (using `train_test_split`).\n",
    "Then split that data into a train and test set (50%/50%). \n",
    "The train and test sets are now both 25% of the total data."
   ]
  },
  {
   "cell_type": "markdown",
   "metadata": {},
   "source": [
    "Initialize a GamaClassifier, similarly to how the GamaRegressor was initialized, but:\n",
    " - specify the maximum runtime to at least 3 minutes,\n",
    " - set `n_jobs` to 2,\n",
    " - set the metric to accuracy,\n",
    " - specify a different log name,\n",
    "\n",
    "Then start search (`fit`) and evaluate the model on the test data (`score`).\n",
    "Take a short break once it's all running, or ask us a question about the lecture! :)"
   ]
  },
  {
   "cell_type": "code",
   "execution_count": 12,
   "metadata": {},
   "outputs": [],
   "source": [
    "##### Exercise 1.3: Split the data and run GAMA\n",
    "trees = oml.datasets.get_dataset(180)\n",
    "X,y,_,_ = trees.get_data(target=trees.default_target_attribute, dataset_format='dataframe')\n",
    "X_sub, _, y_sub, _ = train_test_split(X, y, stratify=y, train_size=0.5)\n",
    "X_train, X_test, y_train, y_test = train_test_split(X_sub, y_sub, stratify=y_sub, train_size=0.5)"
   ]
  },
  {
   "cell_type": "code",
   "execution_count": 13,
   "metadata": {},
   "outputs": [
    {
     "name": "stdout",
     "output_type": "stream",
     "text": [
      "Using GAMA version 20.2.1.\n",
      "INIT:GamaClassifier(scoring=accuracy,regularize_length=True,max_pipeline_length=None,random_state=None,max_total_time=180,max_eval_time=None,n_jobs=2,max_memory_mb=None,verbosity=20,search=AsyncEA(),post_processing=BestFitPostProcessing(),output_directory=gama_log2,store=logs)\n"
     ]
    }
   ],
   "source": [
    "automl = GamaClassifier(\n",
    "    max_total_time=60,\n",
    "    n_jobs=2,\n",
    "    scoring='accuracy',\n",
    "    verbosity=logging.INFO,  # to get printed updates about search progress\n",
    "    output_directory=\"gama_log2\",  # name for a log file to record search output in\n",
    ")"
   ]
  },
  {
   "cell_type": "code",
   "execution_count": null,
   "metadata": {},
   "outputs": [
    {
     "name": "stdout",
     "output_type": "stream",
     "text": [
      "START: preprocessing default\n",
      "STOP: preprocessing default after 0.0864s.\n",
      "START: search AsyncEA\n"
     ]
    },
    {
     "name": "stderr",
     "output_type": "stream",
     "text": [
      "/Users/jvanscho/miniforge3/lib/python3.9/site-packages/statsmodels/tools/_testing.py:19: FutureWarning: pandas.util.testing is deprecated. Use the functions in the public API at pandas.testing instead.\n",
      "  import pandas.util.testing as tm\n"
     ]
    },
    {
     "name": "stdout",
     "output_type": "stream",
     "text": [
      "Starting EA with new population.\n"
     ]
    },
    {
     "name": "stderr",
     "output_type": "stream",
     "text": [
      "/Users/jvanscho/miniforge3/lib/python3.9/site-packages/statsmodels/tools/_testing.py:19: FutureWarning: pandas.util.testing is deprecated. Use the functions in the public API at pandas.testing instead.\n",
      "  import pandas.util.testing as tm\n",
      "/Users/jvanscho/miniforge3/lib/python3.9/site-packages/statsmodels/tools/_testing.py:19: FutureWarning: pandas.util.testing is deprecated. Use the functions in the public API at pandas.testing instead.\n",
      "  import pandas.util.testing as tm\n"
     ]
    }
   ],
   "source": [
    "automl.fit(X_train, y_train)"
   ]
  },
  {
   "cell_type": "code",
   "execution_count": null,
   "metadata": {},
   "outputs": [],
   "source": [
    "automl.score(X_test, y_test)"
   ]
  },
  {
   "cell_type": "markdown",
   "metadata": {},
   "source": [
    "How did the model perform? In lab 3 we had about 80% accuracy after tuning the number of trees in the RandomForest. How does this model compare?\n",
    "\n",
    "The covertype dataset is quite large, and three minutes is not much time. For this reason we downsampled such that our training set contained only 25% of the original data. In our experience with these constraints, we find that GAMA can produce models with 80% accuracy, but it's also possible to see worse results. With more time we could search longer and evaluate more models on more of the data."
   ]
  },
  {
   "cell_type": "markdown",
   "metadata": {},
   "source": [
    "#### Exercise 1.4\n",
    "\n",
    "Up to this point GAMA has been using the best found pipeline to make predictions on the test data.\n",
    "However, we saw that constructing ensembles of models can be a useful tool to gain additional performance.\n",
    "GAMA can be configured to automatically build an ensemble from the models it found during search. To do this you should initialize GAMA with the `post_processing_method` specified:"
   ]
  },
  {
   "cell_type": "code",
   "execution_count": null,
   "metadata": {},
   "outputs": [],
   "source": [
    "from gama.postprocessing import EnsemblePostProcessing\n",
    "\n",
    "automl_with_ensemble = GamaClassifier(\n",
    "    max_total_time=60,\n",
    "    n_jobs=2,\n",
    "    verbosity=logging.INFO,\n",
    "    output_directory=\"gama_log3\",\n",
    "    scoring='accuracy',\n",
    "    post_processing=EnsemblePostProcessing(),  # Specify to build an ensemble after search\n",
    ")"
   ]
  },
  {
   "cell_type": "markdown",
   "metadata": {},
   "source": [
    "Again, start search and record the test set score:"
   ]
  },
  {
   "cell_type": "code",
   "execution_count": null,
   "metadata": {},
   "outputs": [],
   "source": [
    "##### Exercise 1.4\n",
    "automl_with_ensemble.fit(X_train, y_train)"
   ]
  },
  {
   "cell_type": "code",
   "execution_count": null,
   "metadata": {},
   "outputs": [],
   "source": [
    "score = automl_with_ensemble.score(X_test, y_test)\n",
    "print(\"ensemble score: {:.4f}\".format(score))"
   ]
  },
  {
   "cell_type": "markdown",
   "metadata": {},
   "source": [
    "#### Exercise 1.5\n",
    "Note that this run was independent from the previous run. This means it might have found better or worse pipelines than last search. We cannot compare the performance of this ensemble directly to the previous best score. Run the code cell below to see how the single best pipeline would have scored *this* run:"
   ]
  },
  {
   "cell_type": "code",
   "execution_count": null,
   "metadata": {},
   "outputs": [],
   "source": [
    "# Currently post-hoc switching of post-processing method is not supported directly.\n",
    "# We work around this:\n",
    "from sklearn.metrics import log_loss\n",
    "\n",
    "best, = automl_with_ensemble._evaluation_library.n_best(1)\n",
    "best_pipeline = best.individual.pipeline\n",
    "best_pipeline.fit(X_train, y_train)\n",
    "test_score = best_pipeline.score(X_test, y_test)\n",
    "print(\"train score: {:.3f}, test score: {:.3f}\".format(best.score[0], test_score))"
   ]
  },
  {
   "cell_type": "markdown",
   "metadata": {},
   "source": [
    "In this case, did it improve the performance? Was the improvement big?\n",
    "\n",
    "Normally the ensemble should perform better, though the benefit can be very marginal.\n",
    "GAMA creates an Ensemble through weighting votes of pipelines evaluated in search (for the interested, the precise procedure is described in [Caruana et al. (2004)](https://www.cs.cornell.edu/~caruana/ctp/ct.papers/caruana.icml04.icdm06long.pdf)).\n",
    "In the scenario and constraints we have set up just now, creating a good ensemble is hard.\n",
    "Can you think of some reason(s) why?"
   ]
  },
  {
   "cell_type": "markdown",
   "metadata": {},
   "source": [
    "> Type your answer in this markdown cell."
   ]
  },
  {
   "cell_type": "markdown",
   "metadata": {},
   "source": [
    "Solution:\n",
    "> ..."
   ]
  },
  {
   "cell_type": "markdown",
   "metadata": {},
   "source": [
    "### Image Recognition with AutoML"
   ]
  },
  {
   "cell_type": "markdown",
   "metadata": {},
   "source": [
    "> *note*: If you are running out of time, or are experiencing errors below, ignore the coding assigment. We are aware that in some scenarios GAMA halts on this example."
   ]
  },
  {
   "cell_type": "markdown",
   "metadata": {},
   "source": [
    "#### Exercise 1.6\n",
    "AutoML is still not (yet) a one-tool-fits-all solution.\n",
    "GAMA was designed to deal with tabular data.\n",
    "Last lab session you trained ConvNets to classify images in the CIFAR dataset.\n",
    "The very first model already had at least 60% accuracy, the best model had ~83% accuracy.\n",
    "We will now compare those results to GAMA:\n",
    " - download the CIFAR-10 dataset from OpenML (dataset id: 40926)\n",
    " - split the data into a train and test set (80%/20%)\n",
    " - run GAMA optimizing for accuracy, with n_jobs=1 and (at least) 5 minutes of runtime"
   ]
  },
  {
   "cell_type": "markdown",
   "metadata": {},
   "source": [
    "Results will vary wildly.\n",
    "Running it a few times can give scores ranging from ~10% accuracy to ~35% accuracy. \n",
    "More time will lead to better results, but it will not approach ConvNet levels of performance.\n",
    "Why do you think this is?"
   ]
  },
  {
   "cell_type": "markdown",
   "metadata": {},
   "source": [
    "> Type your answer in this markdown cell."
   ]
  },
  {
   "cell_type": "markdown",
   "metadata": {},
   "source": [
    "Solution:\n",
    "> ..."
   ]
  },
  {
   "cell_type": "markdown",
   "metadata": {},
   "source": [
    "## Exercise 2: Other AutoML tools\n",
    "There are AutoML tools that are specifically designed to automatically learn neural network architectures. For example [AutoKeras](https://autokeras.com/) (Texas A&M University), [AutoGluon](https://autogluon.mxnet.io/) (commercial, Amazon), and [Cloud AutoML](https://cloud.google.com/automl) (commercial, Google). If you are eager, do go and compare your own ConvNet to these AutoML systems instead!"
   ]
  },
  {
   "cell_type": "code",
   "execution_count": null,
   "metadata": {},
   "outputs": [],
   "source": []
  }
 ],
 "metadata": {
  "kernelspec": {
   "display_name": "Python 3 (ipykernel)",
   "language": "python",
   "name": "python3"
  },
  "language_info": {
   "codemirror_mode": {
    "name": "ipython",
    "version": 3
   },
   "file_extension": ".py",
   "mimetype": "text/x-python",
   "name": "python",
   "nbconvert_exporter": "python",
   "pygments_lexer": "ipython3",
   "version": "3.9.7"
  }
 },
 "nbformat": 4,
 "nbformat_minor": 4
}
