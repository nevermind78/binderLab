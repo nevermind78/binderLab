{
 "cells": [
  {
   "cell_type": "markdown",
   "metadata": {
    "colab_type": "text",
    "id": "KWKcmf8evatg"
   },
   "source": [
    "# Lab 7a: Convolutional neural nets\n",
    "In this lab we consider the [CIFAR dataset](https://www.openml.org/d/40926), but model it using convolutional neural networks instead of linear models.\n",
    "There is no separate tutorial, but you can find lots of examples in the lecture notebook on convolutional neural networks. If you are very confident, you can also try to solve these exercises using PyTorch instead of TensorFlow."
   ]
  },
  {
   "cell_type": "markdown",
   "metadata": {
    "colab_type": "text",
    "id": "lDmq-B50vatm"
   },
   "source": [
    "Tip: You can run these exercises faster on a GPU (but they will also run fine on a CPU). If you do not have a GPU locally, you can upload this notebook to Google Colab. You can enable GPU support at “runtime” -> “change runtime type”."
   ]
  },
  {
   "cell_type": "code",
   "execution_count": 1,
   "metadata": {
    "colab": {
     "base_uri": "https://localhost:8080/",
     "height": 51
    },
    "colab_type": "code",
    "id": "J6dS0Pcjvatp",
    "outputId": "d60a4f7e-1a80-4157-9799-8f17cca3e51e"
   },
   "outputs": [],
   "source": [
    "# Auto-setup when running on Google Colab\n",
    "if 'google.colab' in str(get_ipython()):\n",
    "    !pip install openml\n",
    "\n",
    "# General imports\n",
    "%matplotlib inline\n",
    "import numpy as np\n",
    "import pandas as pd\n",
    "import matplotlib.pyplot as plt\n",
    "import openml as oml\n",
    "import tensorflow as tf"
   ]
  },
  {
   "cell_type": "code",
   "execution_count": 2,
   "metadata": {
    "colab": {
     "base_uri": "https://localhost:8080/",
     "height": 68
    },
    "colab_type": "code",
    "id": "fgFXyOrkvs57",
    "outputId": "7c06657f-08e5-40f0-a1a1-556792d996d4"
   },
   "outputs": [],
   "source": [
    "# Uncomment the next line if you run on Colab\n",
    "#!pip install --quiet openml"
   ]
  },
  {
   "cell_type": "code",
   "execution_count": 3,
   "metadata": {
    "colab": {},
    "colab_type": "code",
    "id": "RuFLiSvWwUPE"
   },
   "outputs": [],
   "source": [
    "%matplotlib inline\n",
    "import openml as oml\n",
    "import matplotlib.pyplot as plt"
   ]
  },
  {
   "cell_type": "code",
   "execution_count": 4,
   "metadata": {
    "colab": {},
    "colab_type": "code",
    "id": "LAXN17rYvat6"
   },
   "outputs": [],
   "source": [
    "# Download CIFAR data. Takes a while the first time.\n",
    "# This version returns 3x32x32 resolution images. \n",
    "# If you feel like it, repeat the exercises with the 96x96x3 resolution version by using ID 41103 \n",
    "cifar = oml.datasets.get_dataset(40926) \n",
    "X, y, _, _ = cifar.get_data(target=cifar.default_target_attribute, dataset_format='array'); \n",
    "cifar_classes = {0: \"airplane\", 1: \"automobile\", 2: \"bird\", 3: \"cat\", 4: \"deer\",\n",
    "                 5: \"dog\", 6: \"frog\", 7: \"horse\", 8: \"ship\", 9: \"truck\"}"
   ]
  },
  {
   "cell_type": "code",
   "execution_count": 5,
   "metadata": {
    "colab": {},
    "colab_type": "code",
    "id": "Cr2I9xdO-Y26"
   },
   "outputs": [],
   "source": [
    "# The dataset (40926) is in a weird 3x32x32 format, we need to reshape and transpose\n",
    "Xr = X.reshape((len(X),3,32,32)).transpose(0,2,3,1)"
   ]
  },
  {
   "cell_type": "code",
   "execution_count": 6,
   "metadata": {
    "colab": {
     "base_uri": "https://localhost:8080/",
     "height": 141
    },
    "colab_type": "code",
    "id": "9fZymsAzvauB",
    "outputId": "fa0f4586-9acb-41f1-8390-8821c808348e"
   },
   "outputs": [
    {
     "data": {
      "image/png": "[encoded data removed]",
      "text/plain": [
       "<Figure size 720x360 with 5 Axes>"
      ]
     },
     "metadata": {},
     "output_type": "display_data"
    }
   ],
   "source": [
    "# Take some random examples, reshape to a 32x32 image and plot\n",
    "from random import randint\n",
    "fig, axes = plt.subplots(1, 5,  figsize=(10, 5))\n",
    "for i in range(5):\n",
    "    n = randint(0,len(Xr))\n",
    "    # The data is stored in a 3x32x32 format, so we need to transpose it\n",
    "    axes[i].imshow(Xr[n]/255)\n",
    "    axes[i].set_xlabel((cifar_classes[int(y[n])]))\n",
    "    axes[i].set_xticks(()), axes[i].set_yticks(())\n",
    "plt.show();"
   ]
  },
  {
   "cell_type": "markdown",
   "metadata": {
    "colab_type": "text",
    "id": "wrF5VXwyvauJ"
   },
   "source": [
    "## Exercise 1: A simple model\n",
    "* Split the data into 80% training and 20% validation sets\n",
    "* Normalize the data to [0,1]\n",
    "* Build a ConvNet with 3 convolutional layers interspersed with MaxPooling layers, and one dense layer.\n",
    "    * Use at least 32 3x3 filters in the first layer and ReLU activation.\n",
    "    * Otherwise, make rational design choices or experiment a bit to see what works.\n",
    "* You should at least get 60% accuracy.\n",
    "* For training, you can try batch sizes of 64, and 20-50 epochs, but feel free to explore this as well\n",
    "* Plot and interpret the learning curves. Is the model overfitting? How could you improve it further?"
   ]
  },
  {
   "cell_type": "markdown",
   "metadata": {
    "colab_type": "text",
    "id": "rORbf0BwU6nj"
   },
   "source": [
    "## Exercise 2: VGG-like model\n",
    "* Implement a simplified VGG model by building 3 'blocks' of 2 convolutional layers each\n",
    "* Do MaxPooling after each block\n",
    "* The first block should use at least 32 filters, later blocks should use more\n",
    "* You can use 3x3 filters\n",
    "* Use zero-padding to be able to build a deeper model (see the `padding` attribute)\n",
    "* Use a dense layer with at least 128 hidden nodes.\n",
    "* You can use ReLU activations everywhere (where it makes sense)\n",
    "* Plot and interpret the learning curves\n"
   ]
  },
  {
   "cell_type": "markdown",
   "metadata": {
    "colab_type": "text",
    "id": "vqDMibf9XXh4"
   },
   "source": [
    "## Exercise 3: Regularization\n",
    "* Explore different ways to regularize your VGG-like model\n",
    "  * Try adding some dropout after every MaxPooling and Dense layer.\n",
    "    * What are good Dropout rates? Try a fixed Dropout rate, or increase the rates in the deeper layers.\n",
    "  * Try batch normalization together with Dropout\n",
    "    * Think about where batch normalization would make sense \n",
    "* Plot and interpret the learning curves\n"
   ]
  },
  {
   "cell_type": "markdown",
   "metadata": {
    "colab_type": "text",
    "id": "0hS0eHlPaERh"
   },
   "source": [
    "## Exercise 4: Data Augmentation\n",
    "* Perform image augmentation (rotation, shift, shear, zoom, flip,...). You can use the ImageDataGenerator for this.\n",
    "* What is the effect? What is the effect with and without Dropout?\n",
    "* Plot and interpret the learning curves\n"
   ]
  },
  {
   "cell_type": "markdown",
   "metadata": {
    "colab_type": "text",
    "id": "j81ECavVvawS"
   },
   "source": [
    "## Exercise 5: Interpret the misclassifications\n",
    "Chances are that even your best model is not yet perfect. It is important to understand what kind of errors it still makes.\n",
    "* Run the test images through the network and detect all misclassified ones\n",
    "* Interpret some of the misclassifications. Are these misclassifications to be expected? \n",
    "* Compute the confusion matrix. Which classes are often confused?"
   ]
  },
  {
   "cell_type": "markdown",
   "metadata": {
    "colab_type": "text",
    "id": "_J2WnCuvvaxj"
   },
   "source": [
    "## Exercise 6: Interpret the model\n",
    "Retrain your best model on all the data. Next, retrieve and visualize the activations (feature maps) for every filter for every convolutional layer, or at least for a few filters for every layer. Tip: see the course notebooks for examples on how to do this. \n",
    "\n",
    "Interpret the results. Is your model indeed learning something useful?"
   ]
  },
  {
   "cell_type": "markdown",
   "metadata": {
    "colab_type": "text",
    "id": "Sl4q-KrSjmeE"
   },
   "source": [
    "## Optional: Take it a step further\n",
    "* Repeat the exercises, but now use a [higher-resolution version of the CIFAR dataset](https://www.openml.org/d/40926) (with OpenML ID 41103), or another [version with 100 classes](https://www.openml.org/d/41983) (with OpenML ID 41983). Good luck!\n"
   ]
  }
 ],
 "metadata": {
  "accelerator": "GPU",
  "anaconda-cloud": {},
  "colab": {
   "collapsed_sections": [],
   "machine_shape": "hm",
   "name": "Lab 6 - Convolutional Neural Networks Solution.ipynb",
   "provenance": []
  },
  "hide_input": false,
  "kernelspec": {
   "display_name": "Python 3 (ipykernel)",
   "language": "python",
   "name": "python3"
  },
  "language_info": {
   "codemirror_mode": {
    "name": "ipython",
    "version": 3
   },
   "file_extension": ".py",
   "mimetype": "text/x-python",
   "name": "python",
   "nbconvert_exporter": "python",
   "pygments_lexer": "ipython3",
   "version": "3.9.7"
  }
 },
 "nbformat": 4,
 "nbformat_minor": 4
}
