{
 "cells": [
  {
   "cell_type": "markdown",
   "metadata": {
    "id": "TL5y5fY9Jy_x"
   },
   "source": [
    "# Lab 7: Neural networks \n",
    "\n",
    "In this lab we will build dense neural networks on the MNIST dataset.\n",
    "\n",
    "Make sure you read the tutorial for this lab first."
   ]
  },
  {
   "cell_type": "markdown",
   "metadata": {},
   "source": [
    "## Load the data and create train-test splits"
   ]
  },
  {
   "cell_type": "code",
   "execution_count": null,
   "metadata": {},
   "outputs": [],
   "source": [
    "# google collab\n",
    "# !pip install \"numpy>=1.26\" openml --upgrade --quiet"
   ]
  },
  {
   "cell_type": "code",
   "execution_count": 50,
   "metadata": {},
   "outputs": [
    {
     "name": "stdout",
     "output_type": "stream",
     "text": [
      "Using Keras 3.9.2\n"
     ]
    }
   ],
   "source": [
    "# Global imports and settings\n",
    "%matplotlib inline\n",
    "import numpy as np\n",
    "import pandas as pd\n",
    "import openml as oml\n",
    "import os\n",
    "import matplotlib.pyplot as plt\n",
    "import tensorflow.keras as keras\n",
    "print(\"Using Keras\",keras.__version__)\n",
    "os.environ['TF_CPP_MIN_LOG_LEVEL'] = \"2\""
   ]
  },
  {
   "cell_type": "code",
   "execution_count": 51,
   "metadata": {},
   "outputs": [
    {
     "data": {
      "image/png": "[encoded data removed]",
      "text/plain": [
       "<Figure size 1000x500 with 5 Axes>"
      ]
     },
     "metadata": {},
     "output_type": "display_data"
    }
   ],
   "source": [
    "import warnings\n",
    "warnings.filterwarnings(\"ignore\", category=FutureWarning)\n",
    "\n",
    "# Rest of your original code remains the same\n",
    "mnist = oml.datasets.get_dataset(554)\n",
    "X, y, _, _ = mnist.get_data(target=mnist.default_target_attribute, dataset_format='array')\n",
    "X = X.reshape(70000, 28, 28)\n",
    "\n",
    "# Take some random examples\n",
    "from random import randint\n",
    "fig, axes = plt.subplots(1, 5,  figsize=(10, 5))\n",
    "for i in range(5):\n",
    "    n = randint(0,70000)\n",
    "    axes[i].imshow(X[n], cmap=plt.cm.gray_r)\n",
    "    axes[i].set_xticks([])\n",
    "    axes[i].set_yticks([])\n",
    "    axes[i].set_xlabel(\"{}\".format(y[n]))\n",
    "plt.show();"
   ]
  },
  {
   "cell_type": "code",
   "execution_count": 52,
   "metadata": {
    "id": "JZlvdpyYKx7V"
   },
   "outputs": [],
   "source": [
    "# For MNIST, there exists a predefined stratified train-test split of 60000-10000. We therefore don't shuffle or stratify here.\n",
    "from sklearn.model_selection import train_test_split\n",
    "X_train, X_test, y_train, y_test = train_test_split(X, y, train_size=60000, random_state=0)"
   ]
  },
  {
   "cell_type": "markdown",
   "metadata": {
    "id": "8ldP-5z1B2vL"
   },
   "source": [
    "## Exercise 1: Preprocessing\n",
    "* Normalize the data: map each feature value from its current representation (an integer between 0 and 255) to a floating-point value between 0 and 1.0. \n",
    "* Store the floating-point values in `x_train_normalized` and `x_test_normalized`.\n",
    "* Map the class label to a on-hot-encoded value. Store in `y_train_encoded` and `y_test_encoded`."
   ]
  },
  {
   "cell_type": "code",
   "execution_count": 53,
   "metadata": {
    "cellView": "form",
    "id": "g8HC-TDgB1D1"
   },
   "outputs": [],
   "source": [
    "# Solution\n",
    "x_train_normalized = X_train / 255.0\n",
    "x_test_normalized = X_test / 255.0\n",
    "\n",
    "from tensorflow.keras.utils import to_categorical\n",
    "y_train_encoded = to_categorical(y_train)\n",
    "y_test_encoded = to_categorical(y_test)"
   ]
  },
  {
   "cell_type": "markdown",
   "metadata": {
    "id": "3014ezH3C7jT"
   },
   "source": [
    "## Exercise 2: Create a deep neural net model\n",
    "\n",
    "Implement a `create_model` function which defines the topography of the deep neural net, specifying the following:\n",
    "\n",
    "* The number of layers in the deep neural net: Use 2 dense layers for now.\n",
    "* The number of nodes in each layer: these are parameters of your function.\n",
    "* Any regularization layers. Add at least one dropout layer.\n",
    "* The optimizer and learning rate. Make the learning rate a parameter of your function as well.\n",
    "\n",
    "Consider:\n",
    "* What should be the shape of the input layer?\n",
    "* Which activation function you will need for the last layer, since this is a 10-class classification problem?"
   ]
  },
  {
   "cell_type": "code",
   "execution_count": 54,
   "metadata": {},
   "outputs": [],
   "source": [
    "### Create and compile a 'deep' neural net\n",
    "def create_model(layer_1_units=32, layer_2_units=10, learning_rate=0.001, dropout_rate=0.3):\n",
    "    pass"
   ]
  },
  {
   "cell_type": "code",
   "execution_count": 55,
   "metadata": {
    "cellView": "both",
    "id": "pedD5GhlDC-y"
   },
   "outputs": [],
   "source": [
    "def create_model(layer_1_units=32, layer_2_units=10, learning_rate=0.001, dropout_rate=0.3):\n",
    "    model = keras.models.Sequential()\n",
    "    \n",
    "    # Flatten 28x28 input\n",
    "    model.add(keras.layers.Flatten(input_shape=(28, 28)))\n",
    "    \n",
    "    # First hidden layer\n",
    "    model.add(keras.layers.Dense(units=32, activation='relu'))\n",
    "    \n",
    "    # Dropout layer\n",
    "    model.add(keras.layers.Dropout(rate=dropout_rate))\n",
    "    \n",
    "    # Output layer\n",
    "    model.add(keras.layers.Dense(units=10, activation='softmax'))\n",
    "    \n",
    "    # Compile model \n",
    "    model.compile(\n",
    "        optimizer=keras.optimizers.Adam(learning_rate=learning_rate),  # Fixed parameter name\n",
    "        loss=\"categorical_crossentropy\", \n",
    "        metrics=['accuracy']\n",
    "    )\n",
    "    \n",
    "    return model"
   ]
  },
  {
   "cell_type": "markdown",
   "metadata": {},
   "source": [
    "## Exercise 3: Create a training function\n",
    "Implement a `train_model` function which trains and evaluates a given model.\n",
    "It should do a train-validation split and report the train and validation loss and accuracy, and return the training history."
   ]
  },
  {
   "cell_type": "code",
   "execution_count": 56,
   "metadata": {},
   "outputs": [],
   "source": [
    "def train_model(model, X, y, validation_split=0.1, epochs=10, batch_size=None):\n",
    "    \"\"\"\n",
    "    model: the model to train\n",
    "    X, y: the training data and labels\n",
    "    validation_split: the percentage of data set aside for the validation set\n",
    "    epochs: the number of epochs to train for\n",
    "    batch_size: the batch size for minibatch SGD\n",
    "    \"\"\"\n",
    "    pass"
   ]
  },
  {
   "cell_type": "code",
   "execution_count": 57,
   "metadata": {},
   "outputs": [],
   "source": [
    "# Solution\n",
    "def train_model(model, X, y, validation_split=0.1, epochs=10, batch_size=None):\n",
    "    \"\"\"\n",
    "    model: the model to train\n",
    "    X, y: the training data and labels\n",
    "    validation_split: the percentage of data set aside for the validation set\n",
    "    epochs: the number of epochs to train for\n",
    "    batch_size: the batch size for minibatch SGD\n",
    "    \"\"\"\n",
    "    X_train, x_val, y_train, y_val = train_test_split(X, y, test_size=validation_split, shuffle=True, stratify=y, random_state=0)\n",
    "    \n",
    "    history = model.fit(x=X_train, y=y_train, batch_size=batch_size, verbose=0,\n",
    "                        epochs=epochs, shuffle=True, validation_data=(x_val, y_val))\n",
    "    return history "
   ]
  },
  {
   "cell_type": "markdown",
   "metadata": {
    "id": "D-IXYVfvM4gD"
   },
   "source": [
    "## Exercise 4: Evaluate the model\n",
    "\n",
    "Train the model with a learning rate of 0.003, 50 epochs, batch size 4000, and a validation set that is 20% of the total training data.\n",
    "Use default settings otherwise. Plot the learning curve of the loss, validation loss, accuracy, and validation accuracy. Finally, report the performance on the test set.\n",
    "\n",
    "Feel free to use the plotting function below, or implement the callback from the tutorial to see results in real time."
   ]
  },
  {
   "cell_type": "code",
   "execution_count": 58,
   "metadata": {
    "cellView": "form",
    "id": "QF0BFRXTOeR3"
   },
   "outputs": [],
   "source": [
    "# Helper plotting function\n",
    "#\n",
    "# history: the history object returned by the fit function\n",
    "# list_of_metrics: the metrics to plot\n",
    "def plot_curve(history, list_of_metrics):\n",
    "    \n",
    "    plt.figure()\n",
    "    plt.xlabel(\"Epoch\")\n",
    "    plt.ylabel(\"Value\")\n",
    "\n",
    "    epochs = history.epoch\n",
    "    hist = pd.DataFrame(history.history)\n",
    "\n",
    "    for m in list_of_metrics:\n",
    "        x = hist[m]\n",
    "        plt.plot(epochs[1:], x[1:], label=m, lw=2)\n",
    "\n",
    "    plt.legend()"
   ]
  },
  {
   "cell_type": "code",
   "execution_count": 59,
   "metadata": {
    "cellView": "both",
    "id": "nj3v5EKQFY8s"
   },
   "outputs": [
    {
     "name": "stderr",
     "output_type": "stream",
     "text": [
      "c:\\Users\\abdal\\anaconda3\\envs\\ml\\lib\\site-packages\\keras\\src\\layers\\reshaping\\flatten.py:37: UserWarning: Do not pass an `input_shape`/`input_dim` argument to a layer. When using Sequential models, prefer using an `Input(shape)` object as the first layer in the model instead.\n",
      "  super().__init__(**kwargs)\n"
     ]
    },
    {
     "name": "stdout",
     "output_type": "stream",
     "text": [
      "\n",
      " Evaluation on the test set [loss, accuracy]:\n"
     ]
    },
    {
     "data": {
      "text/plain": [
       "[0.22026172280311584, 0.9380999803543091]"
      ]
     },
     "execution_count": 59,
     "metadata": {},
     "output_type": "execute_result"
    },
    {
     "data": {
      "image/png": "[encoded data removed]",
      "text/plain": [
       "<Figure size 640x480 with 1 Axes>"
      ]
     },
     "metadata": {},
     "output_type": "display_data"
    }
   ],
   "source": [
    "# Solution\n",
    "# Settings\n",
    "learning_rate = 0.003\n",
    "epochs = 50\n",
    "batch_size = 4000\n",
    "validation_split = 0.2\n",
    "\n",
    "# Create the model the model's topography.\n",
    "model = create_model(learning_rate)\n",
    "\n",
    "# Train the model on the normalized training set.\n",
    "history = train_model(model, x_train_normalized, y_train_encoded, \n",
    "                      validation_split, epochs, batch_size)\n",
    "\n",
    "# Plot a graph of the metric vs. epochs.\n",
    "list_of_metrics = ['accuracy','val_accuracy','loss','val_loss']\n",
    "plot_curve(history, list_of_metrics)\n",
    "\n",
    "# Evaluate against the test set.\n",
    "print(\"\\n Evaluation on the test set [loss, accuracy]:\")\n",
    "model.evaluate(x=x_test_normalized, y=y_test_encoded, \n",
    "               batch_size=batch_size, verbose=0)"
   ]
  },
  {
   "cell_type": "markdown",
   "metadata": {
    "id": "Y5IKmk7D49_n"
   },
   "source": [
    "## Exercise 5: Optimize the model\n",
    "\n",
    "Try to optimize the model, either manually or with a tuning method. At least optimize the following:\n",
    "* the number of hidden layers \n",
    "* the number of nodes in each layer\n",
    "* the amount of dropout layers and the dropout rate\n",
    "\n",
    "Try to reach at least 96% accuracy against the test set."
   ]
  },
  {
   "cell_type": "code",
   "execution_count": null,
   "metadata": {
    "cellView": "form",
    "id": "wYG5qXpP5a9n"
   },
   "outputs": [],
   "source": [
    "# Solution\n",
    "# For an example with random search, see the tutorial\n",
    "# Here, we search manually, following the following hunches:\n",
    "#   * Adding more nodes to the first hidden layer will improve accuracy. The input size is 784, so we should not make it too small\n",
    "#   * Adding a second hidden layer generally improves accuracy.\n",
    "#   * For larger models (more nodes), we need to regularize more (more dropout)\n",
    "\n",
    "batch_size = 4000 # Pretty high, but making this smaller doesn't seem to help much.\n",
    "epochs = 70\n",
    "\n",
    "# Create the model the model's topography.\n",
    "model = create_model(layer_1_units=800, layer_2_units=800, learning_rate=0.003, dropout_rate= 0.15)\n",
    "\n",
    "# Train the model on the normalized training set.\n",
    "history = train_model(model, x_train_normalized, y_train_encoded, \n",
    "                      validation_split, epochs, batch_size)\n",
    "\n",
    "# Plot a graph of the metric vs. epochs.\n",
    "list_of_metrics = ['accuracy','val_accuracy','loss','val_loss']\n",
    "plot_curve(history, list_of_metrics)\n",
    "\n",
    "# Evaluate against the test set.\n",
    "print(\"\\n Evaluation on the test set (accuracy):\")\n",
    "model.evaluate(x=x_test_normalized, y=y_test_encoded, \n",
    "               batch_size=batch_size, verbose=0)[1]"
   ]
  },
  {
   "cell_type": "code",
   "execution_count": 60,
   "metadata": {},
   "outputs": [
    {
     "name": "stdout",
     "output_type": "stream",
     "text": [
      "Trial 5 Complete [00h 01m 19s]\n",
      "val_accuracy: 0.9553333520889282\n",
      "\n",
      "Best val_accuracy So Far: 0.9829999804496765\n",
      "Total elapsed time: 00h 07m 25s\n"
     ]
    },
    {
     "name": "stderr",
     "output_type": "stream",
     "text": [
      "c:\\Users\\abdal\\anaconda3\\envs\\ml\\lib\\site-packages\\keras\\src\\saving\\saving_lib.py:757: UserWarning: Skipping variable loading for optimizer 'adam', because it has 2 variables whereas the saved optimizer has 18 variables. \n",
      "  saveable.load_own_variables(weights_store.get(inner_path))\n"
     ]
    },
    {
     "name": "stdout",
     "output_type": "stream",
     "text": [
      "\u001b[1m188/188\u001b[0m \u001b[32m━━━━━━━━━━━━━━━━━━━━\u001b[0m\u001b[37m\u001b[0m \u001b[1m0s\u001b[0m 1ms/step - accuracy: 0.9839 - loss: 0.0748\n",
      "\n",
      "✅ Meilleure accuracy sur validation : 0.9830\n"
     ]
    }
   ],
   "source": [
    "import keras\n",
    "import keras_tuner as kt\n",
    "from tensorflow.keras import layers\n",
    "from sklearn.model_selection import train_test_split\n",
    "def build_model(hp):\n",
    "    model = keras.Sequential()\n",
    "    model.add(keras.Input(shape=(28, 28)))\n",
    "    model.add(layers.Flatten())\n",
    "\n",
    "    # 1ère couche dense\n",
    "    model.add(layers.Dense(\n",
    "        units=hp.Int('units1', 64, 256, step=32),\n",
    "        activation='relu'\n",
    "    ))\n",
    "    model.add(layers.Dropout(rate=hp.Float('dropout1', 0.1, 0.5, step=0.1)))\n",
    "\n",
    "    # 2e couche dense\n",
    "    model.add(layers.Dense(\n",
    "        units=hp.Int('units2', 32, 256, step=32),\n",
    "        activation=hp.Choice('activation', ['relu', 'tanh', 'selu'])\n",
    "    ))\n",
    "\n",
    "    # 3e couche dense (optionnelle)\n",
    "    if hp.Boolean('add_layer3'):\n",
    "        model.add(layers.Dense(\n",
    "            units=hp.Int('units3', 32, 128, step=32),\n",
    "            activation='relu'\n",
    "        ))\n",
    "\n",
    "    # Couche de sortie avec softmax pour classification\n",
    "    model.add(layers.Dense(10, activation='softmax'))\n",
    "\n",
    "    # Optimiseur avec LR\n",
    "    optimizer = keras.optimizers.Adam(\n",
    "        learning_rate=hp.Choice('lr', [1e-2, 1e-3, 1e-4])\n",
    "    )\n",
    "\n",
    "    model.compile(optimizer=optimizer,\n",
    "                  loss='categorical_crossentropy',\n",
    "                  metrics=['accuracy'])\n",
    "    return model\n",
    "\n",
    "# Séparer les données\n",
    "X_train, X_val, y_train, y_val = train_test_split(\n",
    "    x_train_normalized,\n",
    "    y_train_encoded,\n",
    "    test_size=0.1,\n",
    "    shuffle=True,\n",
    "    stratify=y_train_encoded,\n",
    "    random_state=0\n",
    ")\n",
    "\n",
    "# Recherche aléatoire avec 20 essais\n",
    "tuner = kt.RandomSearch(\n",
    "    build_model,\n",
    "    max_trials=5,\n",
    "    objective='val_accuracy',\n",
    "    project_name='mnist_advanced_tuning',\n",
    "    overwrite=True\n",
    ")\n",
    "\n",
    "# Lancer la recherche\n",
    "tuner.search(\n",
    "    X_train, y_train,\n",
    "    epochs=30,\n",
    "    validation_data=(X_val, y_val),\n",
    "    verbose=1\n",
    ")\n",
    "\n",
    "# Récupérer le meilleur modèle\n",
    "best_model = tuner.get_best_models(num_models=1)[0]\n",
    "\n",
    "# Évaluer\n",
    "loss, accuracy = best_model.evaluate(X_val, y_val)\n",
    "print(f\"\\n✅ Meilleure accuracy sur validation : {accuracy:.4f}\")"
   ]
  },
  {
   "cell_type": "code",
   "execution_count": 61,
   "metadata": {},
   "outputs": [
    {
     "name": "stdout",
     "output_type": "stream",
     "text": [
      "\n",
      "🎯 Trial 1 - Val Accuracy: 0.9829999804496765\n",
      "   - units1: 256\n",
      "   - dropout1: 0.2\n",
      "   - units2: 256\n",
      "   - activation: relu\n",
      "   - add_layer3: True\n",
      "   - lr: 0.0001\n",
      "   - units3: 128\n",
      "\n",
      "🎯 Trial 2 - Val Accuracy: 0.9733333587646484\n",
      "   - units1: 96\n",
      "   - dropout1: 0.5\n",
      "   - units2: 256\n",
      "   - activation: selu\n",
      "   - add_layer3: False\n",
      "   - lr: 0.0001\n",
      "   - units3: 32\n",
      "\n",
      "🎯 Trial 3 - Val Accuracy: 0.9693333506584167\n",
      "   - units1: 160\n",
      "   - dropout1: 0.1\n",
      "   - units2: 192\n",
      "   - activation: relu\n",
      "   - add_layer3: True\n",
      "   - lr: 0.01\n",
      "   - units3: 64\n",
      "\n",
      "🎯 Trial 4 - Val Accuracy: 0.9553333520889282\n",
      "   - units1: 96\n",
      "   - dropout1: 0.1\n",
      "   - units2: 224\n",
      "   - activation: selu\n",
      "   - add_layer3: True\n",
      "   - lr: 0.01\n",
      "   - units3: 64\n",
      "\n",
      "🎯 Trial 5 - Val Accuracy: 0.9391666650772095\n",
      "   - units1: 224\n",
      "   - dropout1: 0.1\n",
      "   - units2: 64\n",
      "   - activation: tanh\n",
      "   - add_layer3: True\n",
      "   - lr: 0.01\n",
      "   - units3: 32\n"
     ]
    }
   ],
   "source": [
    "# Récupérer les meilleurs essais\n",
    "best_trials = tuner.oracle.get_best_trials(num_trials=5)\n",
    "\n",
    "# Afficher les détails des meilleurs essais\n",
    "for i, trial in enumerate(best_trials):\n",
    "    print(f\"\\n🎯 Trial {i + 1} - Val Accuracy: {trial.score}\")\n",
    "    for hp_name, hp_val in trial.hyperparameters.values.items():\n",
    "        print(f\"   - {hp_name}: {hp_val}\")\n"
   ]
  },
  {
   "cell_type": "code",
   "execution_count": 62,
   "metadata": {},
   "outputs": [
    {
     "name": "stdout",
     "output_type": "stream",
     "text": [
      "\n",
      "Meilleur essai : Trial ID 2\n",
      "   - Val Accuracy : 0.9829999804496765\n",
      "   - units1: 256\n",
      "   - dropout1: 0.2\n",
      "   - units2: 256\n",
      "   - activation: relu\n",
      "   - add_layer3: True\n",
      "   - lr: 0.0001\n",
      "   - units3: 128\n"
     ]
    }
   ],
   "source": [
    "# Récupérer le meilleur essai basé sur la val_accuracy\n",
    "best_trial = tuner.oracle.get_best_trials(num_trials=1)[0]\n",
    "\n",
    "# Afficher les hyperparamètres du meilleur essai\n",
    "print(f\"\\nMeilleur essai : Trial ID {best_trial.trial_id}\")\n",
    "print(f\"   - Val Accuracy : {best_trial.score}\")\n",
    "for hp_name, hp_val in best_trial.hyperparameters.values.items():\n",
    "    print(f\"   - {hp_name}: {hp_val}\")\n",
    "    \n",
    "# Si tu souhaites réentraîner ce modèle, tu peux récupérer les hyperparamètres\n",
    "best_hps = best_trial.hyperparameters\n",
    "model = build_model(best_hps)\n"
   ]
  },
  {
   "cell_type": "code",
   "execution_count": 63,
   "metadata": {},
   "outputs": [
    {
     "data": {
      "text/html": [
       "<div>\n",
       "<style scoped>\n",
       "    .dataframe tbody tr th:only-of-type {\n",
       "        vertical-align: middle;\n",
       "    }\n",
       "\n",
       "    .dataframe tbody tr th {\n",
       "        vertical-align: top;\n",
       "    }\n",
       "\n",
       "    .dataframe thead th {\n",
       "        text-align: right;\n",
       "    }\n",
       "</style>\n",
       "<table border=\"1\" class=\"dataframe\">\n",
       "  <thead>\n",
       "    <tr style=\"text-align: right;\">\n",
       "      <th></th>\n",
       "      <th>Trial ID</th>\n",
       "      <th>Val Accuracy</th>\n",
       "      <th>units1</th>\n",
       "      <th>dropout1</th>\n",
       "      <th>units2</th>\n",
       "      <th>activation</th>\n",
       "      <th>add_layer3</th>\n",
       "      <th>lr</th>\n",
       "      <th>units3</th>\n",
       "    </tr>\n",
       "  </thead>\n",
       "  <tbody>\n",
       "    <tr>\n",
       "      <th>0</th>\n",
       "      <td>0</td>\n",
       "      <td>0.939167</td>\n",
       "      <td>224</td>\n",
       "      <td>0.1</td>\n",
       "      <td>64</td>\n",
       "      <td>tanh</td>\n",
       "      <td>True</td>\n",
       "      <td>0.0100</td>\n",
       "      <td>32</td>\n",
       "    </tr>\n",
       "    <tr>\n",
       "      <th>1</th>\n",
       "      <td>1</td>\n",
       "      <td>0.969333</td>\n",
       "      <td>160</td>\n",
       "      <td>0.1</td>\n",
       "      <td>192</td>\n",
       "      <td>relu</td>\n",
       "      <td>True</td>\n",
       "      <td>0.0100</td>\n",
       "      <td>64</td>\n",
       "    </tr>\n",
       "    <tr>\n",
       "      <th>2</th>\n",
       "      <td>2</td>\n",
       "      <td>0.983000</td>\n",
       "      <td>256</td>\n",
       "      <td>0.2</td>\n",
       "      <td>256</td>\n",
       "      <td>relu</td>\n",
       "      <td>True</td>\n",
       "      <td>0.0001</td>\n",
       "      <td>128</td>\n",
       "    </tr>\n",
       "    <tr>\n",
       "      <th>3</th>\n",
       "      <td>3</td>\n",
       "      <td>0.973333</td>\n",
       "      <td>96</td>\n",
       "      <td>0.5</td>\n",
       "      <td>256</td>\n",
       "      <td>selu</td>\n",
       "      <td>False</td>\n",
       "      <td>0.0001</td>\n",
       "      <td>32</td>\n",
       "    </tr>\n",
       "    <tr>\n",
       "      <th>4</th>\n",
       "      <td>4</td>\n",
       "      <td>0.955333</td>\n",
       "      <td>96</td>\n",
       "      <td>0.1</td>\n",
       "      <td>224</td>\n",
       "      <td>selu</td>\n",
       "      <td>True</td>\n",
       "      <td>0.0100</td>\n",
       "      <td>64</td>\n",
       "    </tr>\n",
       "  </tbody>\n",
       "</table>\n",
       "</div>"
      ],
      "text/plain": [
       "  Trial ID  Val Accuracy  units1  dropout1  units2 activation  add_layer3  \\\n",
       "0        0      0.939167     224       0.1      64       tanh        True   \n",
       "1        1      0.969333     160       0.1     192       relu        True   \n",
       "2        2      0.983000     256       0.2     256       relu        True   \n",
       "3        3      0.973333      96       0.5     256       selu       False   \n",
       "4        4      0.955333      96       0.1     224       selu        True   \n",
       "\n",
       "       lr  units3  \n",
       "0  0.0100      32  \n",
       "1  0.0100      64  \n",
       "2  0.0001     128  \n",
       "3  0.0001      32  \n",
       "4  0.0100      64  "
      ]
     },
     "execution_count": 63,
     "metadata": {},
     "output_type": "execute_result"
    }
   ],
   "source": [
    "import pandas as pd\n",
    "\n",
    "results = tuner.oracle.trials\n",
    "\n",
    "df = pd.DataFrame([\n",
    "    {\n",
    "        'Trial ID': trial.trial_id,\n",
    "        'Val Accuracy': trial.score,\n",
    "        **trial.hyperparameters.values\n",
    "    }\n",
    "    for trial in results.values()\n",
    "])\n",
    "\n",
    "df\n"
   ]
  },
  {
   "cell_type": "code",
   "execution_count": 64,
   "metadata": {},
   "outputs": [
    {
     "name": "stderr",
     "output_type": "stream",
     "text": [
      "WARNING:absl:You are saving your model as an HDF5 file via `model.save()` or `keras.saving.save_model(model)`. This file format is considered legacy. We recommend using instead the native Keras format, e.g. `model.save('my_model.keras')` or `keras.saving.save_model(model, 'my_model.keras')`. \n"
     ]
    }
   ],
   "source": [
    "best_model.save(\"best_mnist_model.h5\")\n"
   ]
  },
  {
   "cell_type": "code",
   "execution_count": 37,
   "metadata": {},
   "outputs": [
    {
     "name": "stdout",
     "output_type": "stream",
     "text": [
      "Taille de X_train: (54000, 28, 28)\n",
      "Taille de x_val: (6000, 28, 28)\n",
      "Taille de y_train_encoded: (54000, 10)\n",
      "Taille de y_val: (6000, 10)\n"
     ]
    }
   ],
   "source": [
    "from sklearn.model_selection import train_test_split\n",
    "\n",
    "# Diviser X_train et y_train_encoded en X_train, y_train et X_val, y_val (80% / 20% ou 90% / 10%)\n",
    "X_train, x_val, y_train_encoded, y_val = train_test_split(X_train, y_train_encoded, test_size=0.1, random_state=42)\n",
    "\n",
    "# Vérification des tailles\n",
    "print(f\"Taille de X_train: {X_train.shape}\")\n",
    "print(f\"Taille de x_val: {x_val.shape}\")\n",
    "print(f\"Taille de y_train_encoded: {y_train_encoded.shape}\")\n",
    "print(f\"Taille de y_val: {y_val.shape}\")\n",
    "\n"
   ]
  },
  {
   "cell_type": "code",
   "execution_count": null,
   "metadata": {},
   "outputs": [
    {
     "data": {
      "application/vnd.jupyter.widget-view+json": {
       "model_id": "2c46e109f5414eb1b1a69c73030963d8",
       "version_major": 2,
       "version_minor": 0
      },
      "text/plain": [
       "interactive(children=(IntSlider(value=0, continuous_update=False, description='Image #:', max=9999), Output())…"
      ]
     },
     "metadata": {},
     "output_type": "display_data"
    },
    {
     "data": {
      "text/plain": [
       "<function __main__.show_prediction(index)>"
      ]
     },
     "execution_count": 38,
     "metadata": {},
     "output_type": "execute_result"
    }
   ],
   "source": [
    "import ipywidgets as widgets\n",
    "from IPython.display import display\n",
    "import matplotlib.pyplot as plt\n",
    "import numpy as np\n",
    "import keras\n",
    "from keras.models import Sequential\n",
    "from keras.layers import Dense, Flatten, Dropout\n",
    "from keras.optimizers import Adam\n",
    "\n",
    "# Paramètres du meilleur essai\n",
    "best_hps = {\n",
    "    'units1': 192,\n",
    "    'dropout1': 0.3,\n",
    "    'units2': 160,\n",
    "    'activation': 'selu',\n",
    "    'add_layer3': True,\n",
    "    'lr': 0.0001,\n",
    "    'units3': 32\n",
    "}\n",
    "\n",
    "# Construire le modèle avec les meilleurs hyperparamètres\n",
    "def build_model():\n",
    "    model = Sequential()\n",
    "    model.add(keras.Input(shape=(28, 28)))  # Définir l'entrée\n",
    "    model.add(Flatten())  # Applatir l'image\n",
    "    model.add(Dense(units=best_hps['units1'], activation=best_hps['activation']))  # Première couche dense\n",
    "    model.add(Dropout(rate=best_hps['dropout1']))  # Dropout pour régularisation\n",
    "    model.add(Dense(units=best_hps['units2'], activation=best_hps['activation']))  # Deuxième couche dense\n",
    "    \n",
    "    if best_hps['add_layer3']:  # Si on veut ajouter une troisième couche\n",
    "        model.add(Dense(units=best_hps['units3'], activation=best_hps['activation']))  # Troisième couche\n",
    "    \n",
    "    model.add(Dense(10, activation='softmax'))  # Couche de sortie avec 10 classes\n",
    "    \n",
    "    # Compilations avec un optimiseur Adam et le taux d'apprentissage donné\n",
    "    optimizer = Adam(learning_rate=best_hps['lr'])\n",
    "    model.compile(optimizer=optimizer, loss='categorical_crossentropy', metrics=['accuracy'])\n",
    "    return model\n",
    "\n",
    "# Construire et entraîner le modèle\n",
    "best_model = build_model()\n",
    "best_model.fit(X_train, y_train_encoded, epochs=50, validation_data=(x_val, y_val), verbose=0)\n",
    "\n",
    "\n"
   ]
  },
  {
   "cell_type": "code",
   "execution_count": 68,
   "metadata": {},
   "outputs": [
    {
     "data": {
      "application/vnd.jupyter.widget-view+json": {
       "model_id": "b8627d02d16e45ed8aaca90c3514c057",
       "version_major": 2,
       "version_minor": 0
      },
      "text/plain": [
       "interactive(children=(IntSlider(value=0, continuous_update=False, description='Image #:', max=9999), Output())…"
      ]
     },
     "metadata": {},
     "output_type": "display_data"
    },
    {
     "data": {
      "text/plain": [
       "<function __main__.show_prediction(index)>"
      ]
     },
     "execution_count": 68,
     "metadata": {},
     "output_type": "execute_result"
    }
   ],
   "source": [
    "# Charger une image aléatoire depuis x_test (normalisé)\n",
    "def show_prediction(index):\n",
    "    image = x_test_normalized[index]\n",
    "    label = np.argmax(y_test_encoded[index])  # Ground truth\n",
    "\n",
    "    plt.imshow(image, cmap='gray')\n",
    "    plt.title(f\"Vraie étiquette : {label}\")\n",
    "    plt.axis('off')\n",
    "    plt.show()\n",
    "\n",
    "    # Prédiction\n",
    "    prediction = best_model.predict(image[np.newaxis, ...])\n",
    "    predicted_label = np.argmax(prediction)\n",
    "    \n",
    "    print(f\"✅ Prédiction du modèle : {predicted_label}\")\n",
    "\n",
    "# Slider pour choisir une image\n",
    "index_slider = widgets.IntSlider(\n",
    "    value=0,\n",
    "    min=0,\n",
    "    max=len(x_test_normalized)-1,\n",
    "    step=1,\n",
    "    description='Image #:',\n",
    "    continuous_update=False\n",
    ")\n",
    "\n",
    "# Affichage interactif\n",
    "widgets.interact(show_prediction, index=index_slider)"
   ]
  },
  {
   "cell_type": "code",
   "execution_count": 39,
   "metadata": {},
   "outputs": [
    {
     "name": "stdout",
     "output_type": "stream",
     "text": [
      "Epoch 1/50\n",
      "\u001b[1m1688/1688\u001b[0m \u001b[32m━━━━━━━━━━━━━━━━━━━━\u001b[0m\u001b[37m\u001b[0m \u001b[1m3s\u001b[0m 2ms/step - accuracy: 0.9919 - loss: 0.0289 - val_accuracy: 0.9768 - val_loss: 0.1109\n",
      "Epoch 2/50\n",
      "\u001b[1m1688/1688\u001b[0m \u001b[32m━━━━━━━━━━━━━━━━━━━━\u001b[0m\u001b[37m\u001b[0m \u001b[1m3s\u001b[0m 2ms/step - accuracy: 0.9904 - loss: 0.0312 - val_accuracy: 0.9755 - val_loss: 0.1102\n",
      "Epoch 3/50\n",
      "\u001b[1m1688/1688\u001b[0m \u001b[32m━━━━━━━━━━━━━━━━━━━━\u001b[0m\u001b[37m\u001b[0m \u001b[1m3s\u001b[0m 2ms/step - accuracy: 0.9915 - loss: 0.0268 - val_accuracy: 0.9762 - val_loss: 0.1147\n",
      "Epoch 4/50\n",
      "\u001b[1m1688/1688\u001b[0m \u001b[32m━━━━━━━━━━━━━━━━━━━━\u001b[0m\u001b[37m\u001b[0m \u001b[1m3s\u001b[0m 2ms/step - accuracy: 0.9910 - loss: 0.0298 - val_accuracy: 0.9755 - val_loss: 0.1109\n",
      "Epoch 5/50\n",
      "\u001b[1m1688/1688\u001b[0m \u001b[32m━━━━━━━━━━━━━━━━━━━━\u001b[0m\u001b[37m\u001b[0m \u001b[1m3s\u001b[0m 2ms/step - accuracy: 0.9918 - loss: 0.0260 - val_accuracy: 0.9768 - val_loss: 0.1092\n",
      "Epoch 6/50\n",
      "\u001b[1m1688/1688\u001b[0m \u001b[32m━━━━━━━━━━━━━━━━━━━━\u001b[0m\u001b[37m\u001b[0m \u001b[1m3s\u001b[0m 2ms/step - accuracy: 0.9915 - loss: 0.0270 - val_accuracy: 0.9762 - val_loss: 0.1181\n",
      "Epoch 7/50\n",
      "\u001b[1m1688/1688\u001b[0m \u001b[32m━━━━━━━━━━━━━━━━━━━━\u001b[0m\u001b[37m\u001b[0m \u001b[1m3s\u001b[0m 2ms/step - accuracy: 0.9928 - loss: 0.0235 - val_accuracy: 0.9763 - val_loss: 0.1150\n",
      "Epoch 8/50\n",
      "\u001b[1m1688/1688\u001b[0m \u001b[32m━━━━━━━━━━━━━━━━━━━━\u001b[0m\u001b[37m\u001b[0m \u001b[1m3s\u001b[0m 2ms/step - accuracy: 0.9909 - loss: 0.0280 - val_accuracy: 0.9760 - val_loss: 0.1151\n",
      "Epoch 9/50\n",
      "\u001b[1m1688/1688\u001b[0m \u001b[32m━━━━━━━━━━━━━━━━━━━━\u001b[0m\u001b[37m\u001b[0m \u001b[1m3s\u001b[0m 2ms/step - accuracy: 0.9922 - loss: 0.0252 - val_accuracy: 0.9762 - val_loss: 0.1155\n",
      "Epoch 10/50\n",
      "\u001b[1m1688/1688\u001b[0m \u001b[32m━━━━━━━━━━━━━━━━━━━━\u001b[0m\u001b[37m\u001b[0m \u001b[1m3s\u001b[0m 2ms/step - accuracy: 0.9921 - loss: 0.0259 - val_accuracy: 0.9777 - val_loss: 0.1131\n",
      "Epoch 11/50\n",
      "\u001b[1m1688/1688\u001b[0m \u001b[32m━━━━━━━━━━━━━━━━━━━━\u001b[0m\u001b[37m\u001b[0m \u001b[1m3s\u001b[0m 2ms/step - accuracy: 0.9929 - loss: 0.0250 - val_accuracy: 0.9777 - val_loss: 0.1140\n",
      "Epoch 12/50\n",
      "\u001b[1m1688/1688\u001b[0m \u001b[32m━━━━━━━━━━━━━━━━━━━━\u001b[0m\u001b[37m\u001b[0m \u001b[1m3s\u001b[0m 2ms/step - accuracy: 0.9924 - loss: 0.0238 - val_accuracy: 0.9768 - val_loss: 0.1137\n",
      "Epoch 13/50\n",
      "\u001b[1m1688/1688\u001b[0m \u001b[32m━━━━━━━━━━━━━━━━━━━━\u001b[0m\u001b[37m\u001b[0m \u001b[1m3s\u001b[0m 2ms/step - accuracy: 0.9925 - loss: 0.0239 - val_accuracy: 0.9765 - val_loss: 0.1208\n",
      "Epoch 14/50\n",
      "\u001b[1m1688/1688\u001b[0m \u001b[32m━━━━━━━━━━━━━━━━━━━━\u001b[0m\u001b[37m\u001b[0m \u001b[1m3s\u001b[0m 2ms/step - accuracy: 0.9924 - loss: 0.0236 - val_accuracy: 0.9777 - val_loss: 0.1117\n",
      "Epoch 15/50\n",
      "\u001b[1m1688/1688\u001b[0m \u001b[32m━━━━━━━━━━━━━━━━━━━━\u001b[0m\u001b[37m\u001b[0m \u001b[1m3s\u001b[0m 2ms/step - accuracy: 0.9925 - loss: 0.0241 - val_accuracy: 0.9773 - val_loss: 0.1081\n",
      "Epoch 16/50\n",
      "\u001b[1m1688/1688\u001b[0m \u001b[32m━━━━━━━━━━━━━━━━━━━━\u001b[0m\u001b[37m\u001b[0m \u001b[1m3s\u001b[0m 2ms/step - accuracy: 0.9925 - loss: 0.0228 - val_accuracy: 0.9787 - val_loss: 0.1126\n",
      "Epoch 17/50\n",
      "\u001b[1m1688/1688\u001b[0m \u001b[32m━━━━━━━━━━━━━━━━━━━━\u001b[0m\u001b[37m\u001b[0m \u001b[1m3s\u001b[0m 2ms/step - accuracy: 0.9925 - loss: 0.0236 - val_accuracy: 0.9780 - val_loss: 0.1136\n",
      "Epoch 18/50\n",
      "\u001b[1m1688/1688\u001b[0m \u001b[32m━━━━━━━━━━━━━━━━━━━━\u001b[0m\u001b[37m\u001b[0m \u001b[1m3s\u001b[0m 2ms/step - accuracy: 0.9938 - loss: 0.0221 - val_accuracy: 0.9775 - val_loss: 0.1212\n",
      "Epoch 19/50\n",
      "\u001b[1m1688/1688\u001b[0m \u001b[32m━━━━━━━━━━━━━━━━━━━━\u001b[0m\u001b[37m\u001b[0m \u001b[1m3s\u001b[0m 2ms/step - accuracy: 0.9935 - loss: 0.0194 - val_accuracy: 0.9767 - val_loss: 0.1257\n",
      "Epoch 20/50\n",
      "\u001b[1m1688/1688\u001b[0m \u001b[32m━━━━━━━━━━━━━━━━━━━━\u001b[0m\u001b[37m\u001b[0m \u001b[1m3s\u001b[0m 2ms/step - accuracy: 0.9940 - loss: 0.0196 - val_accuracy: 0.9762 - val_loss: 0.1168\n",
      "Epoch 21/50\n",
      "\u001b[1m1688/1688\u001b[0m \u001b[32m━━━━━━━━━━━━━━━━━━━━\u001b[0m\u001b[37m\u001b[0m \u001b[1m3s\u001b[0m 2ms/step - accuracy: 0.9935 - loss: 0.0207 - val_accuracy: 0.9748 - val_loss: 0.1136\n",
      "Epoch 22/50\n",
      "\u001b[1m1688/1688\u001b[0m \u001b[32m━━━━━━━━━━━━━━━━━━━━\u001b[0m\u001b[37m\u001b[0m \u001b[1m3s\u001b[0m 2ms/step - accuracy: 0.9938 - loss: 0.0192 - val_accuracy: 0.9763 - val_loss: 0.1134\n",
      "Epoch 23/50\n",
      "\u001b[1m1688/1688\u001b[0m \u001b[32m━━━━━━━━━━━━━━━━━━━━\u001b[0m\u001b[37m\u001b[0m \u001b[1m3s\u001b[0m 2ms/step - accuracy: 0.9931 - loss: 0.0221 - val_accuracy: 0.9755 - val_loss: 0.1176\n",
      "Epoch 24/50\n",
      "\u001b[1m1688/1688\u001b[0m \u001b[32m━━━━━━━━━━━━━━━━━━━━\u001b[0m\u001b[37m\u001b[0m \u001b[1m3s\u001b[0m 2ms/step - accuracy: 0.9930 - loss: 0.0218 - val_accuracy: 0.9783 - val_loss: 0.1150\n",
      "Epoch 25/50\n",
      "\u001b[1m1688/1688\u001b[0m \u001b[32m━━━━━━━━━━━━━━━━━━━━\u001b[0m\u001b[37m\u001b[0m \u001b[1m3s\u001b[0m 2ms/step - accuracy: 0.9939 - loss: 0.0215 - val_accuracy: 0.9752 - val_loss: 0.1225\n",
      "Epoch 26/50\n",
      "\u001b[1m1688/1688\u001b[0m \u001b[32m━━━━━━━━━━━━━━━━━━━━\u001b[0m\u001b[37m\u001b[0m \u001b[1m4s\u001b[0m 2ms/step - accuracy: 0.9939 - loss: 0.0194 - val_accuracy: 0.9782 - val_loss: 0.1221\n",
      "Epoch 27/50\n",
      "\u001b[1m1688/1688\u001b[0m \u001b[32m━━━━━━━━━━━━━━━━━━━━\u001b[0m\u001b[37m\u001b[0m \u001b[1m3s\u001b[0m 2ms/step - accuracy: 0.9938 - loss: 0.0194 - val_accuracy: 0.9785 - val_loss: 0.1199\n",
      "Epoch 28/50\n",
      "\u001b[1m1688/1688\u001b[0m \u001b[32m━━━━━━━━━━━━━━━━━━━━\u001b[0m\u001b[37m\u001b[0m \u001b[1m3s\u001b[0m 2ms/step - accuracy: 0.9934 - loss: 0.0216 - val_accuracy: 0.9770 - val_loss: 0.1280\n",
      "Epoch 29/50\n",
      "\u001b[1m1688/1688\u001b[0m \u001b[32m━━━━━━━━━━━━━━━━━━━━\u001b[0m\u001b[37m\u001b[0m \u001b[1m3s\u001b[0m 2ms/step - accuracy: 0.9943 - loss: 0.0195 - val_accuracy: 0.9783 - val_loss: 0.1181\n",
      "Epoch 30/50\n",
      "\u001b[1m1688/1688\u001b[0m \u001b[32m━━━━━━━━━━━━━━━━━━━━\u001b[0m\u001b[37m\u001b[0m \u001b[1m3s\u001b[0m 2ms/step - accuracy: 0.9936 - loss: 0.0199 - val_accuracy: 0.9767 - val_loss: 0.1202\n",
      "Epoch 31/50\n",
      "\u001b[1m1688/1688\u001b[0m \u001b[32m━━━━━━━━━━━━━━━━━━━━\u001b[0m\u001b[37m\u001b[0m \u001b[1m3s\u001b[0m 2ms/step - accuracy: 0.9930 - loss: 0.0195 - val_accuracy: 0.9767 - val_loss: 0.1233\n",
      "Epoch 32/50\n",
      "\u001b[1m1688/1688\u001b[0m \u001b[32m━━━━━━━━━━━━━━━━━━━━\u001b[0m\u001b[37m\u001b[0m \u001b[1m3s\u001b[0m 2ms/step - accuracy: 0.9938 - loss: 0.0187 - val_accuracy: 0.9765 - val_loss: 0.1220\n",
      "Epoch 33/50\n",
      "\u001b[1m1688/1688\u001b[0m \u001b[32m━━━━━━━━━━━━━━━━━━━━\u001b[0m\u001b[37m\u001b[0m \u001b[1m3s\u001b[0m 2ms/step - accuracy: 0.9947 - loss: 0.0167 - val_accuracy: 0.9780 - val_loss: 0.1176\n",
      "Epoch 34/50\n",
      "\u001b[1m1688/1688\u001b[0m \u001b[32m━━━━━━━━━━━━━━━━━━━━\u001b[0m\u001b[37m\u001b[0m \u001b[1m3s\u001b[0m 2ms/step - accuracy: 0.9942 - loss: 0.0197 - val_accuracy: 0.9753 - val_loss: 0.1228\n",
      "Epoch 35/50\n",
      "\u001b[1m1688/1688\u001b[0m \u001b[32m━━━━━━━━━━━━━━━━━━━━\u001b[0m\u001b[37m\u001b[0m \u001b[1m3s\u001b[0m 2ms/step - accuracy: 0.9949 - loss: 0.0172 - val_accuracy: 0.9762 - val_loss: 0.1245\n",
      "Epoch 36/50\n",
      "\u001b[1m1688/1688\u001b[0m \u001b[32m━━━━━━━━━━━━━━━━━━━━\u001b[0m\u001b[37m\u001b[0m \u001b[1m3s\u001b[0m 2ms/step - accuracy: 0.9951 - loss: 0.0161 - val_accuracy: 0.9762 - val_loss: 0.1176\n",
      "Epoch 37/50\n",
      "\u001b[1m1688/1688\u001b[0m \u001b[32m━━━━━━━━━━━━━━━━━━━━\u001b[0m\u001b[37m\u001b[0m \u001b[1m3s\u001b[0m 2ms/step - accuracy: 0.9954 - loss: 0.0145 - val_accuracy: 0.9780 - val_loss: 0.1180\n",
      "Epoch 38/50\n",
      "\u001b[1m1688/1688\u001b[0m \u001b[32m━━━━━━━━━━━━━━━━━━━━\u001b[0m\u001b[37m\u001b[0m \u001b[1m3s\u001b[0m 2ms/step - accuracy: 0.9951 - loss: 0.0159 - val_accuracy: 0.9778 - val_loss: 0.1180\n",
      "Epoch 39/50\n",
      "\u001b[1m1688/1688\u001b[0m \u001b[32m━━━━━━━━━━━━━━━━━━━━\u001b[0m\u001b[37m\u001b[0m \u001b[1m3s\u001b[0m 2ms/step - accuracy: 0.9951 - loss: 0.0158 - val_accuracy: 0.9770 - val_loss: 0.1286\n",
      "Epoch 40/50\n",
      "\u001b[1m1688/1688\u001b[0m \u001b[32m━━━━━━━━━━━━━━━━━━━━\u001b[0m\u001b[37m\u001b[0m \u001b[1m3s\u001b[0m 2ms/step - accuracy: 0.9951 - loss: 0.0161 - val_accuracy: 0.9767 - val_loss: 0.1224\n",
      "Epoch 41/50\n",
      "\u001b[1m1688/1688\u001b[0m \u001b[32m━━━━━━━━━━━━━━━━━━━━\u001b[0m\u001b[37m\u001b[0m \u001b[1m3s\u001b[0m 2ms/step - accuracy: 0.9942 - loss: 0.0195 - val_accuracy: 0.9780 - val_loss: 0.1193\n",
      "Epoch 42/50\n",
      "\u001b[1m1688/1688\u001b[0m \u001b[32m━━━━━━━━━━━━━━━━━━━━\u001b[0m\u001b[37m\u001b[0m \u001b[1m3s\u001b[0m 2ms/step - accuracy: 0.9949 - loss: 0.0154 - val_accuracy: 0.9763 - val_loss: 0.1173\n",
      "Epoch 43/50\n",
      "\u001b[1m1688/1688\u001b[0m \u001b[32m━━━━━━━━━━━━━━━━━━━━\u001b[0m\u001b[37m\u001b[0m \u001b[1m3s\u001b[0m 2ms/step - accuracy: 0.9952 - loss: 0.0148 - val_accuracy: 0.9767 - val_loss: 0.1237\n",
      "Epoch 44/50\n",
      "\u001b[1m1688/1688\u001b[0m \u001b[32m━━━━━━━━━━━━━━━━━━━━\u001b[0m\u001b[37m\u001b[0m \u001b[1m3s\u001b[0m 2ms/step - accuracy: 0.9951 - loss: 0.0159 - val_accuracy: 0.9770 - val_loss: 0.1191\n",
      "Epoch 45/50\n",
      "\u001b[1m1688/1688\u001b[0m \u001b[32m━━━━━━━━━━━━━━━━━━━━\u001b[0m\u001b[37m\u001b[0m \u001b[1m3s\u001b[0m 2ms/step - accuracy: 0.9945 - loss: 0.0163 - val_accuracy: 0.9773 - val_loss: 0.1246\n",
      "Epoch 46/50\n",
      "\u001b[1m1688/1688\u001b[0m \u001b[32m━━━━━━━━━━━━━━━━━━━━\u001b[0m\u001b[37m\u001b[0m \u001b[1m3s\u001b[0m 2ms/step - accuracy: 0.9956 - loss: 0.0144 - val_accuracy: 0.9772 - val_loss: 0.1201\n",
      "Epoch 47/50\n",
      "\u001b[1m1688/1688\u001b[0m \u001b[32m━━━━━━━━━━━━━━━━━━━━\u001b[0m\u001b[37m\u001b[0m \u001b[1m3s\u001b[0m 2ms/step - accuracy: 0.9955 - loss: 0.0142 - val_accuracy: 0.9768 - val_loss: 0.1242\n",
      "Epoch 48/50\n",
      "\u001b[1m1688/1688\u001b[0m \u001b[32m━━━━━━━━━━━━━━━━━━━━\u001b[0m\u001b[37m\u001b[0m \u001b[1m3s\u001b[0m 2ms/step - accuracy: 0.9947 - loss: 0.0149 - val_accuracy: 0.9765 - val_loss: 0.1209\n",
      "Epoch 49/50\n",
      "\u001b[1m1688/1688\u001b[0m \u001b[32m━━━━━━━━━━━━━━━━━━━━\u001b[0m\u001b[37m\u001b[0m \u001b[1m3s\u001b[0m 2ms/step - accuracy: 0.9956 - loss: 0.0132 - val_accuracy: 0.9775 - val_loss: 0.1251\n",
      "Epoch 50/50\n",
      "\u001b[1m1688/1688\u001b[0m \u001b[32m━━━━━━━━━━━━━━━━━━━━\u001b[0m\u001b[37m\u001b[0m \u001b[1m3s\u001b[0m 2ms/step - accuracy: 0.9959 - loss: 0.0144 - val_accuracy: 0.9778 - val_loss: 0.1183\n",
      "Précision finale sur les données d'entraînement : 99.56%\n",
      "Précision finale sur les données de validation : 97.78%\n"
     ]
    }
   ],
   "source": [
    "# Entraîner le modèle et récupérer l'historique\n",
    "history = best_model.fit(X_train, y_train_encoded, epochs=50, validation_data=(x_val, y_val), verbose=1)\n",
    "\n",
    "# Afficher l'accuracy finale\n",
    "final_accuracy = history.history['accuracy'][-1]  # Accuracy de la dernière époque\n",
    "print(f\"Précision finale sur les données d'entraînement : {final_accuracy * 100:.2f}%\")\n",
    "\n",
    "# Si tu veux afficher aussi l'accuracy sur l'ensemble de validation :\n",
    "val_accuracy = history.history['val_accuracy'][-1]  # Accuracy sur l'ensemble de validation\n",
    "print(f\"Précision finale sur les données de validation : {val_accuracy * 100:.2f}%\")\n"
   ]
  },
  {
   "cell_type": "code",
   "execution_count": 69,
   "metadata": {},
   "outputs": [
    {
     "name": "stdout",
     "output_type": "stream",
     "text": [
      "🔍 Accuracy réelle sur les données de test : 0.9797\n"
     ]
    }
   ],
   "source": [
    "loss, test_accuracy = best_model.evaluate(x_test_normalized, y_test_encoded, verbose=0)\n",
    "print(f\"🔍 Accuracy réelle sur les données de test : {test_accuracy:.4f}\")\n"
   ]
  },
  {
   "cell_type": "code",
   "execution_count": 70,
   "metadata": {},
   "outputs": [
    {
     "name": "stdout",
     "output_type": "stream",
     "text": [
      "🔍 Accuracy sur validation : 0.9830\n",
      "📊 Accuracy sur test : 0.9797\n"
     ]
    }
   ],
   "source": [
    "loss, acc_val = best_model.evaluate(X_val, y_val, verbose=0)\n",
    "print(f\"🔍 Accuracy sur validation : {acc_val:.4f}\")\n",
    "\n",
    "loss, acc_test = best_model.evaluate(x_test_normalized, y_test_encoded, verbose=0)\n",
    "print(f\"📊 Accuracy sur test : {acc_test:.4f}\")\n"
   ]
  },
  {
   "cell_type": "code",
   "execution_count": 66,
   "metadata": {},
   "outputs": [
    {
     "name": "stdout",
     "output_type": "stream",
     "text": [
      "🔍 Accuracy sur validation : 0.9830\n",
      "📊 Accuracy sur test : 0.9797\n"
     ]
    }
   ],
   "source": [
    "loss, acc_val = best_model.evaluate(X_val, y_val, verbose=0)\n",
    "print(f\"🔍 Accuracy sur validation : {acc_val:.4f}\")\n",
    "\n",
    "loss, acc_test = best_model.evaluate(x_test_normalized, y_test_encoded, verbose=0)\n",
    "print(f\"📊 Accuracy sur test : {acc_test:.4f}\")"
   ]
  },
  {
   "cell_type": "code",
   "execution_count": null,
   "metadata": {},
   "outputs": [],
   "source": []
  }
 ],
 "metadata": {
  "colab": {
   "collapsed_sections": [],
   "name": "Copy of Multi-class classification with MNIST.ipynb",
   "private_outputs": true,
   "provenance": []
  },
  "kernelspec": {
   "display_name": "ml",
   "language": "python",
   "name": "python3"
  },
  "language_info": {
   "codemirror_mode": {
    "name": "ipython",
    "version": 3
   },
   "file_extension": ".py",
   "mimetype": "text/x-python",
   "name": "python",
   "nbconvert_exporter": "python",
   "pygments_lexer": "ipython3",
   "version": "3.10.16"
  }
 },
 "nbformat": 4,
 "nbformat_minor": 4
}
